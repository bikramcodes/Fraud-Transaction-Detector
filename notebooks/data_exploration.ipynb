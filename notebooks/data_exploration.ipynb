{
 "cells": [
  {
   "cell_type": "code",
   "execution_count": 87,
   "id": "f5be9fca",
   "metadata": {},
   "outputs": [],
   "source": [
    "# Loading the basic Python libraries\n",
    "\n",
    "import os\n",
    "import numpy as np\n",
    "import pandas as pd\n",
    "import matplotlib.pyplot as plt\n",
    "%matplotlib inline\n",
    "import seaborn as sns\n",
    "sns.set()\n",
    "import warnings\n",
    "warnings.filterwarnings(\"ignore\")"
   ]
  },
  {
   "attachments": {
    "1.JPG": {
     "image/jpeg": "[encoded data removed]"
    }
   },
   "cell_type": "markdown",
   "id": "985fff43",
   "metadata": {},
   "source": [
    "#### Pasting screenshots of the file\n",
    "\n",
    "![1.JPG](attachment:1.JPG)"
   ]
  },
  {
   "cell_type": "code",
   "execution_count": 88,
   "id": "87681594",
   "metadata": {},
   "outputs": [],
   "source": [
    "# Creating a function to load the files into Pandas df\n",
    "\n",
    "import pandas as pd\n",
    "\n",
    "def load_csv(file_path):\n",
    "    '''This function reads and return a .csv file'''\n",
    "    return pd.read_csv(file_path)\n",
    "\n",
    "# Saving the function as data_loader.py file"
   ]
  },
  {
   "cell_type": "code",
   "execution_count": 89,
   "id": "a6fd8532",
   "metadata": {},
   "outputs": [],
   "source": [
    "# Creating dfs using function\n",
    "\n",
    "geo = load_csv(r\"C:\\Users\\user\\Desktop\\Git Projects\\Banking-Domain\\data\\raw\\Geo_scores.csv\")\n",
    "instance = load_csv(r\"C:\\Users\\user\\Desktop\\Git Projects\\Banking-Domain\\data\\raw\\instance_scores.csv\")\n",
    "lambdawts = load_csv(r\"C:\\Users\\user\\Desktop\\Git Projects\\Banking-Domain\\data\\raw\\Lambda_wts.csv\")\n",
    "qset = load_csv(r\"C:\\Users\\user\\Desktop\\Git Projects\\Banking-Domain\\data\\raw\\Qset_tats.csv\")\n",
    "test_data = load_csv(r\"C:\\Users\\user\\Desktop\\Git Projects\\Banking-Domain\\data\\raw\\test_share.csv\")\n",
    "train_data = load_csv(r\"C:\\Users\\user\\Desktop\\Git Projects\\Banking-Domain\\data\\raw\\train.csv\")"
   ]
  },
  {
   "cell_type": "code",
   "execution_count": 90,
   "id": "ef31d123",
   "metadata": {},
   "outputs": [],
   "source": [
    "# Creating a dictionary of Pandas df and giving names\n",
    "\n",
    "combined_data = {\"geo\" : geo, \"instance\" : instance, \"lambdawts\" : lambdawts, \"qset\" : qset, \"test_data\" : test_data, \"train_data\" : train_data }"
   ]
  },
  {
   "cell_type": "code",
   "execution_count": 91,
   "id": "539d0835",
   "metadata": {},
   "outputs": [],
   "source": [
    "# Creating a function to get value out of df/series using functions/methods/sttributes\n",
    "\n",
    "def apply_df_method(df, method_name, *args, **kwargs):\n",
    "    \"\"\"\n",
    "    Apply a method of a DataFrame dynamically.\n",
    "\n",
    "    Parameters:\n",
    "        df (pd.DataFrame): The DataFrame to operate on.\n",
    "        method_name (str): The name of the DataFrame method (e.g., \"mean\", \"shape\").\n",
    "        *args: Positional arguments to pass to the method.\n",
    "        **kwargs: Keyword arguments to pass to the method.\n",
    "\n",
    "    Returns:\n",
    "        Result of the method call.\n",
    "    \"\"\"\n",
    "    # Get the method\n",
    "    if hasattr(df, method_name):\n",
    "        method = getattr(df, method_name)\n",
    "        # If it's callable (like df.mean()), call it\n",
    "        if callable(method):\n",
    "            return method(*args, **kwargs)\n",
    "        else:\n",
    "            return method  # For properties like df.shape or df.columns\n",
    "    else:\n",
    "        raise AttributeError(f\"'{type(df).__name__}' object has no method or attribute '{method_name}'\")\n",
    "\n",
    "# Saving the function as informer.py"
   ]
  },
  {
   "cell_type": "code",
   "execution_count": 92,
   "id": "b156a954",
   "metadata": {},
   "outputs": [
    {
     "name": "stdout",
     "output_type": "stream",
     "text": [
      "The shape of geo file :  (1424035, 2)\n",
      "\n",
      "The shape of instance file :  (1424035, 2)\n",
      "\n",
      "The shape of lambdawts file :  (1400, 2)\n",
      "\n",
      "The shape of qset file :  (1424035, 2)\n",
      "\n",
      "The shape of test_data file :  (56962, 27)\n",
      "\n",
      "The shape of train_data file :  (227845, 28)\n",
      "\n"
     ]
    }
   ],
   "source": [
    "# Checking the shape of the data\n",
    "\n",
    "for key, value in combined_data.items():\n",
    "    print(f\"The shape of {key} file : \", apply_df_method(value, 'shape'))\n",
    "    print()\n",
    "    \n",
    "# Outcome :\n",
    "# lamdbawts, test_data and train_data have different number of rows"
   ]
  },
  {
   "cell_type": "code",
   "execution_count": 93,
   "id": "5967570b",
   "metadata": {},
   "outputs": [
    {
     "name": "stdout",
     "output_type": "stream",
     "text": [
      "The columns of geo file:  ['id', 'geo_score']\n",
      "\n",
      "The columns of instance file:  ['id', 'instance_scores']\n",
      "\n",
      "The columns of lambdawts file:  ['Group', 'lambda_wt']\n",
      "\n",
      "The columns of qset file:  ['id', 'qsets_normalized_tat']\n",
      "\n",
      "The columns of test_data file:  ['id', 'Group', 'Per1', 'Per2', 'Per3', 'Per4', 'Per5', 'Per6', 'Per7', 'Per8', 'Per9', 'Dem1', 'Dem2', 'Dem3', 'Dem4', 'Dem5', 'Dem6', 'Dem7', 'Dem8', 'Dem9', 'Cred1', 'Cred2', 'Cred3', 'Cred4', 'Cred5', 'Cred6', 'Normalised_FNT']\n",
      "\n",
      "The columns of train_data file:  ['id', 'Group', 'Per1', 'Per2', 'Per3', 'Per4', 'Per5', 'Per6', 'Per7', 'Per8', 'Per9', 'Dem1', 'Dem2', 'Dem3', 'Dem4', 'Dem5', 'Dem6', 'Dem7', 'Dem8', 'Dem9', 'Cred1', 'Cred2', 'Cred3', 'Cred4', 'Cred5', 'Cred6', 'Normalised_FNT', 'Target']\n",
      "\n"
     ]
    }
   ],
   "source": [
    "# Checking the columns of the data sets\n",
    "\n",
    "for key, value in combined_data.items():\n",
    "    print(f\"The columns of {key} file: \", apply_df_method(value, 'columns').tolist())\n",
    "    print()\n",
    "\n",
    "# Outcome :\n",
    "# Only 'id' column-> geo, instance and qset\n",
    "# Only 'Group' column-> lambdawts\n",
    "# Both 'id' and 'Group' columns-> test_data and train_data"
   ]
  },
  {
   "cell_type": "code",
   "execution_count": 94,
   "id": "79f4cb1b",
   "metadata": {},
   "outputs": [
    {
     "name": "stdout",
     "output_type": "stream",
     "text": [
      "Number of unique values in 'id' column of geo file:  284807\n",
      "\n",
      "Number of unique values in 'id' column of instance file:  284807\n",
      "\n",
      "Number of unique values in 'Group' column of lambdawts file:  1400\n",
      "\n",
      "Number of unique values in 'id' column of qset file:  284807\n",
      "\n",
      "Number of unique values in 'id' column of test_data file:  56962\n",
      "\n",
      "Number of unique values in 'Group' column of test_data file:  915\n",
      "\n",
      "Number of unique values in 'id' column of train_data file:  227845\n",
      "\n",
      "Number of unique values in 'Group' column of train_data file:  1301\n",
      "\n"
     ]
    }
   ],
   "source": [
    "# Checking the number of unique values in a particular column(id/group)\n",
    "\n",
    "for key, value in combined_data.items():\n",
    "    if 'id' in value.columns:\n",
    "        print(f\"Number of unique values in 'id' column of {key} file: \", apply_df_method(value['id'], 'nunique'))\n",
    "        print()\n",
    "    if 'Group' in value.columns:\n",
    "        print(f\"Number of unique values in 'Group' column of {key} file: \", apply_df_method(value['Group'], 'nunique'))\n",
    "        print()\n",
    "\n",
    "# Outcome:\n",
    "#  test_data and train_data has fewer number of unique 'ids' than rest of the data files \n",
    "# Moreover, they have fewer number of unique 'Groups' than lambdawts file\n",
    "\n",
    "#Action to take:\n",
    "# To combine test_data and train_data to check if they get align"
   ]
  },
  {
   "cell_type": "code",
   "execution_count": 95,
   "id": "c5fa7945",
   "metadata": {},
   "outputs": [],
   "source": [
    "# Adding a mark of train and test to both of their respective files before merging data\n",
    "\n",
    "train_data['data'] = 'train'\n",
    "test_data['data'] = 'test'"
   ]
  },
  {
   "cell_type": "code",
   "execution_count": 96,
   "id": "7ea4b96b",
   "metadata": {},
   "outputs": [
    {
     "data": {
      "text/plain": [
       "Index(['id', 'Group', 'Per1', 'Per2', 'Per3', 'Per4', 'Per5', 'Per6', 'Per7',\n",
       "       'Per8', 'Per9', 'Dem1', 'Dem2', 'Dem3', 'Dem4', 'Dem5', 'Dem6', 'Dem7',\n",
       "       'Dem8', 'Dem9', 'Cred1', 'Cred2', 'Cred3', 'Cred4', 'Cred5', 'Cred6',\n",
       "       'Normalised_FNT', 'Target', 'data'],\n",
       "      dtype='object')"
      ]
     },
     "execution_count": 96,
     "metadata": {},
     "output_type": "execute_result"
    }
   ],
   "source": [
    "# Checking columns of train_data after marking\n",
    "train_data.columns"
   ]
  },
  {
   "cell_type": "code",
   "execution_count": 97,
   "id": "f04c3eb3",
   "metadata": {},
   "outputs": [
    {
     "data": {
      "text/plain": [
       "Index(['id', 'Group', 'Per1', 'Per2', 'Per3', 'Per4', 'Per5', 'Per6', 'Per7',\n",
       "       'Per8', 'Per9', 'Dem1', 'Dem2', 'Dem3', 'Dem4', 'Dem5', 'Dem6', 'Dem7',\n",
       "       'Dem8', 'Dem9', 'Cred1', 'Cred2', 'Cred3', 'Cred4', 'Cred5', 'Cred6',\n",
       "       'Normalised_FNT', 'data'],\n",
       "      dtype='object')"
      ]
     },
     "execution_count": 97,
     "metadata": {},
     "output_type": "execute_result"
    }
   ],
   "source": [
    "# Chacking columns of test_data after marking\n",
    "\n",
    "test_data.columns\n",
    "\n",
    "#Outcome:\n",
    "# train_data has 1 extra column named as 'Target' than test_data\n",
    "#Which is fine as that is our dependent variable"
   ]
  },
  {
   "cell_type": "code",
   "execution_count": 98,
   "id": "e8f6f43a",
   "metadata": {},
   "outputs": [
    {
     "data": {
      "text/html": [
       "<div>\n",
       "<style scoped>\n",
       "    .dataframe tbody tr th:only-of-type {\n",
       "        vertical-align: middle;\n",
       "    }\n",
       "\n",
       "    .dataframe tbody tr th {\n",
       "        vertical-align: top;\n",
       "    }\n",
       "\n",
       "    .dataframe thead th {\n",
       "        text-align: right;\n",
       "    }\n",
       "</style>\n",
       "<table border=\"1\" class=\"dataframe\">\n",
       "  <thead>\n",
       "    <tr style=\"text-align: right;\">\n",
       "      <th></th>\n",
       "      <th>id</th>\n",
       "      <th>Group</th>\n",
       "      <th>Per1</th>\n",
       "      <th>Per2</th>\n",
       "      <th>Per3</th>\n",
       "      <th>Per4</th>\n",
       "      <th>Per5</th>\n",
       "      <th>Per6</th>\n",
       "      <th>Per7</th>\n",
       "      <th>Per8</th>\n",
       "      <th>...</th>\n",
       "      <th>Dem9</th>\n",
       "      <th>Cred1</th>\n",
       "      <th>Cred2</th>\n",
       "      <th>Cred3</th>\n",
       "      <th>Cred4</th>\n",
       "      <th>Cred5</th>\n",
       "      <th>Cred6</th>\n",
       "      <th>Normalised_FNT</th>\n",
       "      <th>Target</th>\n",
       "      <th>data</th>\n",
       "    </tr>\n",
       "  </thead>\n",
       "  <tbody>\n",
       "    <tr>\n",
       "      <th>227840</th>\n",
       "      <td>97346</td>\n",
       "      <td>Grp232</td>\n",
       "      <td>0.476667</td>\n",
       "      <td>1.013333</td>\n",
       "      <td>0.536667</td>\n",
       "      <td>0.576667</td>\n",
       "      <td>1.406667</td>\n",
       "      <td>1.846667</td>\n",
       "      <td>0.600000</td>\n",
       "      <td>1.103333</td>\n",
       "      <td>...</td>\n",
       "      <td>0.630000</td>\n",
       "      <td>0.633333</td>\n",
       "      <td>0.996667</td>\n",
       "      <td>0.646667</td>\n",
       "      <td>0.533333</td>\n",
       "      <td>0.680000</td>\n",
       "      <td>0.693333</td>\n",
       "      <td>-246.5025</td>\n",
       "      <td>0</td>\n",
       "      <td>train</td>\n",
       "    </tr>\n",
       "    <tr>\n",
       "      <th>227841</th>\n",
       "      <td>147361</td>\n",
       "      <td>Grp199</td>\n",
       "      <td>1.363333</td>\n",
       "      <td>0.730000</td>\n",
       "      <td>0.060000</td>\n",
       "      <td>0.776667</td>\n",
       "      <td>0.883333</td>\n",
       "      <td>0.466667</td>\n",
       "      <td>0.733333</td>\n",
       "      <td>0.590000</td>\n",
       "      <td>...</td>\n",
       "      <td>0.356667</td>\n",
       "      <td>0.766667</td>\n",
       "      <td>0.730000</td>\n",
       "      <td>0.596667</td>\n",
       "      <td>0.730000</td>\n",
       "      <td>0.646667</td>\n",
       "      <td>0.656667</td>\n",
       "      <td>-249.7775</td>\n",
       "      <td>0</td>\n",
       "      <td>train</td>\n",
       "    </tr>\n",
       "    <tr>\n",
       "      <th>227842</th>\n",
       "      <td>50989</td>\n",
       "      <td>Grp36</td>\n",
       "      <td>1.060000</td>\n",
       "      <td>0.756667</td>\n",
       "      <td>0.906667</td>\n",
       "      <td>0.896667</td>\n",
       "      <td>0.503333</td>\n",
       "      <td>0.396667</td>\n",
       "      <td>0.683333</td>\n",
       "      <td>0.620000</td>\n",
       "      <td>...</td>\n",
       "      <td>0.510000</td>\n",
       "      <td>0.740000</td>\n",
       "      <td>0.873333</td>\n",
       "      <td>0.700000</td>\n",
       "      <td>0.696667</td>\n",
       "      <td>0.663333</td>\n",
       "      <td>0.673333</td>\n",
       "      <td>-249.7775</td>\n",
       "      <td>0</td>\n",
       "      <td>train</td>\n",
       "    </tr>\n",
       "    <tr>\n",
       "      <th>227843</th>\n",
       "      <td>149780</td>\n",
       "      <td>Grp445</td>\n",
       "      <td>0.433333</td>\n",
       "      <td>1.013333</td>\n",
       "      <td>1.163333</td>\n",
       "      <td>0.940000</td>\n",
       "      <td>0.930000</td>\n",
       "      <td>0.900000</td>\n",
       "      <td>0.813333</td>\n",
       "      <td>0.720000</td>\n",
       "      <td>...</td>\n",
       "      <td>0.606667</td>\n",
       "      <td>0.540000</td>\n",
       "      <td>0.643333</td>\n",
       "      <td>0.906667</td>\n",
       "      <td>0.540000</td>\n",
       "      <td>0.766667</td>\n",
       "      <td>0.710000</td>\n",
       "      <td>-242.7500</td>\n",
       "      <td>0</td>\n",
       "      <td>train</td>\n",
       "    </tr>\n",
       "    <tr>\n",
       "      <th>227844</th>\n",
       "      <td>22175</td>\n",
       "      <td>Grp143</td>\n",
       "      <td>1.006667</td>\n",
       "      <td>0.553333</td>\n",
       "      <td>0.946667</td>\n",
       "      <td>1.206667</td>\n",
       "      <td>0.406667</td>\n",
       "      <td>0.750000</td>\n",
       "      <td>0.520000</td>\n",
       "      <td>0.756667</td>\n",
       "      <td>...</td>\n",
       "      <td>0.646667</td>\n",
       "      <td>0.636667</td>\n",
       "      <td>0.683333</td>\n",
       "      <td>0.843333</td>\n",
       "      <td>0.580000</td>\n",
       "      <td>0.683333</td>\n",
       "      <td>0.676667</td>\n",
       "      <td>-235.0000</td>\n",
       "      <td>0</td>\n",
       "      <td>train</td>\n",
       "    </tr>\n",
       "  </tbody>\n",
       "</table>\n",
       "<p>5 rows × 29 columns</p>\n",
       "</div>"
      ],
      "text/plain": [
       "            id   Group      Per1      Per2      Per3      Per4      Per5  \\\n",
       "227840   97346  Grp232  0.476667  1.013333  0.536667  0.576667  1.406667   \n",
       "227841  147361  Grp199  1.363333  0.730000  0.060000  0.776667  0.883333   \n",
       "227842   50989   Grp36  1.060000  0.756667  0.906667  0.896667  0.503333   \n",
       "227843  149780  Grp445  0.433333  1.013333  1.163333  0.940000  0.930000   \n",
       "227844   22175  Grp143  1.006667  0.553333  0.946667  1.206667  0.406667   \n",
       "\n",
       "            Per6      Per7      Per8  ...      Dem9     Cred1     Cred2  \\\n",
       "227840  1.846667  0.600000  1.103333  ...  0.630000  0.633333  0.996667   \n",
       "227841  0.466667  0.733333  0.590000  ...  0.356667  0.766667  0.730000   \n",
       "227842  0.396667  0.683333  0.620000  ...  0.510000  0.740000  0.873333   \n",
       "227843  0.900000  0.813333  0.720000  ...  0.606667  0.540000  0.643333   \n",
       "227844  0.750000  0.520000  0.756667  ...  0.646667  0.636667  0.683333   \n",
       "\n",
       "           Cred3     Cred4     Cred5     Cred6  Normalised_FNT  Target   data  \n",
       "227840  0.646667  0.533333  0.680000  0.693333       -246.5025       0  train  \n",
       "227841  0.596667  0.730000  0.646667  0.656667       -249.7775       0  train  \n",
       "227842  0.700000  0.696667  0.663333  0.673333       -249.7775       0  train  \n",
       "227843  0.906667  0.540000  0.766667  0.710000       -242.7500       0  train  \n",
       "227844  0.843333  0.580000  0.683333  0.676667       -235.0000       0  train  \n",
       "\n",
       "[5 rows x 29 columns]"
      ]
     },
     "execution_count": 98,
     "metadata": {},
     "output_type": "execute_result"
    }
   ],
   "source": [
    "# Checking the last 5 values of newly added column(data) in train_data\n",
    "\n",
    "train_data.tail()"
   ]
  },
  {
   "cell_type": "code",
   "execution_count": 99,
   "id": "8eba3c7d",
   "metadata": {},
   "outputs": [
    {
     "data": {
      "text/html": [
       "<div>\n",
       "<style scoped>\n",
       "    .dataframe tbody tr th:only-of-type {\n",
       "        vertical-align: middle;\n",
       "    }\n",
       "\n",
       "    .dataframe tbody tr th {\n",
       "        vertical-align: top;\n",
       "    }\n",
       "\n",
       "    .dataframe thead th {\n",
       "        text-align: right;\n",
       "    }\n",
       "</style>\n",
       "<table border=\"1\" class=\"dataframe\">\n",
       "  <thead>\n",
       "    <tr style=\"text-align: right;\">\n",
       "      <th></th>\n",
       "      <th>id</th>\n",
       "      <th>Group</th>\n",
       "      <th>Per1</th>\n",
       "      <th>Per2</th>\n",
       "      <th>Per3</th>\n",
       "      <th>Per4</th>\n",
       "      <th>Per5</th>\n",
       "      <th>Per6</th>\n",
       "      <th>Per7</th>\n",
       "      <th>Per8</th>\n",
       "      <th>...</th>\n",
       "      <th>Dem8</th>\n",
       "      <th>Dem9</th>\n",
       "      <th>Cred1</th>\n",
       "      <th>Cred2</th>\n",
       "      <th>Cred3</th>\n",
       "      <th>Cred4</th>\n",
       "      <th>Cred5</th>\n",
       "      <th>Cred6</th>\n",
       "      <th>Normalised_FNT</th>\n",
       "      <th>data</th>\n",
       "    </tr>\n",
       "  </thead>\n",
       "  <tbody>\n",
       "    <tr>\n",
       "      <th>56957</th>\n",
       "      <td>18333</td>\n",
       "      <td>Grp102</td>\n",
       "      <td>0.553333</td>\n",
       "      <td>1.043333</td>\n",
       "      <td>1.096667</td>\n",
       "      <td>0.686667</td>\n",
       "      <td>0.673333</td>\n",
       "      <td>0.340000</td>\n",
       "      <td>0.900000</td>\n",
       "      <td>0.643333</td>\n",
       "      <td>...</td>\n",
       "      <td>0.576667</td>\n",
       "      <td>0.433333</td>\n",
       "      <td>0.660000</td>\n",
       "      <td>0.776667</td>\n",
       "      <td>0.610000</td>\n",
       "      <td>0.690000</td>\n",
       "      <td>0.750000</td>\n",
       "      <td>0.700000</td>\n",
       "      <td>-249.5050</td>\n",
       "      <td>test</td>\n",
       "    </tr>\n",
       "    <tr>\n",
       "      <th>56958</th>\n",
       "      <td>244207</td>\n",
       "      <td>Grp504</td>\n",
       "      <td>1.353333</td>\n",
       "      <td>0.616667</td>\n",
       "      <td>0.276667</td>\n",
       "      <td>0.783333</td>\n",
       "      <td>0.690000</td>\n",
       "      <td>0.650000</td>\n",
       "      <td>0.473333</td>\n",
       "      <td>0.670000</td>\n",
       "      <td>...</td>\n",
       "      <td>0.713333</td>\n",
       "      <td>0.870000</td>\n",
       "      <td>0.683333</td>\n",
       "      <td>0.690000</td>\n",
       "      <td>0.640000</td>\n",
       "      <td>0.883333</td>\n",
       "      <td>0.663333</td>\n",
       "      <td>0.660000</td>\n",
       "      <td>-248.7525</td>\n",
       "      <td>test</td>\n",
       "    </tr>\n",
       "    <tr>\n",
       "      <th>56959</th>\n",
       "      <td>103277</td>\n",
       "      <td>Grp78</td>\n",
       "      <td>1.083333</td>\n",
       "      <td>0.433333</td>\n",
       "      <td>0.806667</td>\n",
       "      <td>0.490000</td>\n",
       "      <td>0.243333</td>\n",
       "      <td>0.316667</td>\n",
       "      <td>0.533333</td>\n",
       "      <td>0.606667</td>\n",
       "      <td>...</td>\n",
       "      <td>0.433333</td>\n",
       "      <td>0.063333</td>\n",
       "      <td>0.753333</td>\n",
       "      <td>0.780000</td>\n",
       "      <td>0.603333</td>\n",
       "      <td>0.880000</td>\n",
       "      <td>0.643333</td>\n",
       "      <td>0.676667</td>\n",
       "      <td>-231.0500</td>\n",
       "      <td>test</td>\n",
       "    </tr>\n",
       "    <tr>\n",
       "      <th>56960</th>\n",
       "      <td>273294</td>\n",
       "      <td>Grp134</td>\n",
       "      <td>0.566667</td>\n",
       "      <td>1.153333</td>\n",
       "      <td>0.370000</td>\n",
       "      <td>0.616667</td>\n",
       "      <td>0.793333</td>\n",
       "      <td>0.226667</td>\n",
       "      <td>0.910000</td>\n",
       "      <td>0.696667</td>\n",
       "      <td>...</td>\n",
       "      <td>0.776667</td>\n",
       "      <td>1.026667</td>\n",
       "      <td>0.626667</td>\n",
       "      <td>0.646667</td>\n",
       "      <td>0.566667</td>\n",
       "      <td>0.616667</td>\n",
       "      <td>0.713333</td>\n",
       "      <td>0.706667</td>\n",
       "      <td>-246.3150</td>\n",
       "      <td>test</td>\n",
       "    </tr>\n",
       "    <tr>\n",
       "      <th>56961</th>\n",
       "      <td>223337</td>\n",
       "      <td>Grp18</td>\n",
       "      <td>1.426667</td>\n",
       "      <td>0.110000</td>\n",
       "      <td>-0.006667</td>\n",
       "      <td>-0.200000</td>\n",
       "      <td>0.983333</td>\n",
       "      <td>1.870000</td>\n",
       "      <td>0.033333</td>\n",
       "      <td>0.963333</td>\n",
       "      <td>...</td>\n",
       "      <td>0.616667</td>\n",
       "      <td>0.670000</td>\n",
       "      <td>0.770000</td>\n",
       "      <td>0.893333</td>\n",
       "      <td>0.586667</td>\n",
       "      <td>0.616667</td>\n",
       "      <td>0.683333</td>\n",
       "      <td>0.650000</td>\n",
       "      <td>-248.4500</td>\n",
       "      <td>test</td>\n",
       "    </tr>\n",
       "  </tbody>\n",
       "</table>\n",
       "<p>5 rows × 28 columns</p>\n",
       "</div>"
      ],
      "text/plain": [
       "           id   Group      Per1      Per2      Per3      Per4      Per5  \\\n",
       "56957   18333  Grp102  0.553333  1.043333  1.096667  0.686667  0.673333   \n",
       "56958  244207  Grp504  1.353333  0.616667  0.276667  0.783333  0.690000   \n",
       "56959  103277   Grp78  1.083333  0.433333  0.806667  0.490000  0.243333   \n",
       "56960  273294  Grp134  0.566667  1.153333  0.370000  0.616667  0.793333   \n",
       "56961  223337   Grp18  1.426667  0.110000 -0.006667 -0.200000  0.983333   \n",
       "\n",
       "           Per6      Per7      Per8  ...      Dem8      Dem9     Cred1  \\\n",
       "56957  0.340000  0.900000  0.643333  ...  0.576667  0.433333  0.660000   \n",
       "56958  0.650000  0.473333  0.670000  ...  0.713333  0.870000  0.683333   \n",
       "56959  0.316667  0.533333  0.606667  ...  0.433333  0.063333  0.753333   \n",
       "56960  0.226667  0.910000  0.696667  ...  0.776667  1.026667  0.626667   \n",
       "56961  1.870000  0.033333  0.963333  ...  0.616667  0.670000  0.770000   \n",
       "\n",
       "          Cred2     Cred3     Cred4     Cred5     Cred6  Normalised_FNT  data  \n",
       "56957  0.776667  0.610000  0.690000  0.750000  0.700000       -249.5050  test  \n",
       "56958  0.690000  0.640000  0.883333  0.663333  0.660000       -248.7525  test  \n",
       "56959  0.780000  0.603333  0.880000  0.643333  0.676667       -231.0500  test  \n",
       "56960  0.646667  0.566667  0.616667  0.713333  0.706667       -246.3150  test  \n",
       "56961  0.893333  0.586667  0.616667  0.683333  0.650000       -248.4500  test  \n",
       "\n",
       "[5 rows x 28 columns]"
      ]
     },
     "execution_count": 99,
     "metadata": {},
     "output_type": "execute_result"
    }
   ],
   "source": [
    "# Checking the last 5 values of newly added column(data) in test_data\n",
    "\n",
    "test_data.tail()"
   ]
  },
  {
   "cell_type": "code",
   "execution_count": null,
   "id": "7803e787",
   "metadata": {},
   "outputs": [],
   "source": [
    "# Merging all the data row wise\n",
    "\n",
    "all_data = pd.concat([train_data, test_data], axis=0) "
   ]
  },
  {
   "cell_type": "code",
   "execution_count": 101,
   "id": "b23761f4",
   "metadata": {},
   "outputs": [
    {
     "data": {
      "text/html": [
       "<div>\n",
       "<style scoped>\n",
       "    .dataframe tbody tr th:only-of-type {\n",
       "        vertical-align: middle;\n",
       "    }\n",
       "\n",
       "    .dataframe tbody tr th {\n",
       "        vertical-align: top;\n",
       "    }\n",
       "\n",
       "    .dataframe thead th {\n",
       "        text-align: right;\n",
       "    }\n",
       "</style>\n",
       "<table border=\"1\" class=\"dataframe\">\n",
       "  <thead>\n",
       "    <tr style=\"text-align: right;\">\n",
       "      <th></th>\n",
       "      <th>id</th>\n",
       "      <th>Group</th>\n",
       "      <th>Per1</th>\n",
       "      <th>Per2</th>\n",
       "      <th>Per3</th>\n",
       "      <th>Per4</th>\n",
       "      <th>Per5</th>\n",
       "      <th>Per6</th>\n",
       "      <th>Per7</th>\n",
       "      <th>Per8</th>\n",
       "      <th>...</th>\n",
       "      <th>Dem9</th>\n",
       "      <th>Cred1</th>\n",
       "      <th>Cred2</th>\n",
       "      <th>Cred3</th>\n",
       "      <th>Cred4</th>\n",
       "      <th>Cred5</th>\n",
       "      <th>Cred6</th>\n",
       "      <th>Normalised_FNT</th>\n",
       "      <th>Target</th>\n",
       "      <th>data</th>\n",
       "    </tr>\n",
       "  </thead>\n",
       "  <tbody>\n",
       "    <tr>\n",
       "      <th>0</th>\n",
       "      <td>112751</td>\n",
       "      <td>Grp169</td>\n",
       "      <td>1.070000</td>\n",
       "      <td>0.580000</td>\n",
       "      <td>0.480000</td>\n",
       "      <td>0.766667</td>\n",
       "      <td>1.233333</td>\n",
       "      <td>1.993333</td>\n",
       "      <td>0.340000</td>\n",
       "      <td>1.010000</td>\n",
       "      <td>...</td>\n",
       "      <td>0.726667</td>\n",
       "      <td>0.606667</td>\n",
       "      <td>1.010000</td>\n",
       "      <td>0.933333</td>\n",
       "      <td>0.603333</td>\n",
       "      <td>0.686667</td>\n",
       "      <td>0.673333</td>\n",
       "      <td>-245.7500</td>\n",
       "      <td>0.0</td>\n",
       "      <td>train</td>\n",
       "    </tr>\n",
       "    <tr>\n",
       "      <th>1</th>\n",
       "      <td>18495</td>\n",
       "      <td>Grp161</td>\n",
       "      <td>0.473333</td>\n",
       "      <td>1.206667</td>\n",
       "      <td>0.883333</td>\n",
       "      <td>1.430000</td>\n",
       "      <td>0.726667</td>\n",
       "      <td>0.626667</td>\n",
       "      <td>0.810000</td>\n",
       "      <td>0.783333</td>\n",
       "      <td>...</td>\n",
       "      <td>0.743333</td>\n",
       "      <td>0.680000</td>\n",
       "      <td>0.690000</td>\n",
       "      <td>0.560000</td>\n",
       "      <td>0.670000</td>\n",
       "      <td>0.553333</td>\n",
       "      <td>0.653333</td>\n",
       "      <td>-248.0000</td>\n",
       "      <td>0.0</td>\n",
       "      <td>train</td>\n",
       "    </tr>\n",
       "    <tr>\n",
       "      <th>2</th>\n",
       "      <td>23915</td>\n",
       "      <td>Grp261</td>\n",
       "      <td>1.130000</td>\n",
       "      <td>0.143333</td>\n",
       "      <td>0.946667</td>\n",
       "      <td>0.123333</td>\n",
       "      <td>0.080000</td>\n",
       "      <td>0.836667</td>\n",
       "      <td>0.056667</td>\n",
       "      <td>0.756667</td>\n",
       "      <td>...</td>\n",
       "      <td>0.820000</td>\n",
       "      <td>0.600000</td>\n",
       "      <td>0.383333</td>\n",
       "      <td>0.763333</td>\n",
       "      <td>0.670000</td>\n",
       "      <td>0.686667</td>\n",
       "      <td>0.673333</td>\n",
       "      <td>-233.1250</td>\n",
       "      <td>0.0</td>\n",
       "      <td>train</td>\n",
       "    </tr>\n",
       "    <tr>\n",
       "      <th>3</th>\n",
       "      <td>50806</td>\n",
       "      <td>Grp198</td>\n",
       "      <td>0.636667</td>\n",
       "      <td>1.090000</td>\n",
       "      <td>0.750000</td>\n",
       "      <td>0.940000</td>\n",
       "      <td>0.743333</td>\n",
       "      <td>0.346667</td>\n",
       "      <td>0.956667</td>\n",
       "      <td>0.633333</td>\n",
       "      <td>...</td>\n",
       "      <td>0.900000</td>\n",
       "      <td>0.680000</td>\n",
       "      <td>0.846667</td>\n",
       "      <td>0.423333</td>\n",
       "      <td>0.520000</td>\n",
       "      <td>0.846667</td>\n",
       "      <td>0.760000</td>\n",
       "      <td>-249.7775</td>\n",
       "      <td>0.0</td>\n",
       "      <td>train</td>\n",
       "    </tr>\n",
       "    <tr>\n",
       "      <th>4</th>\n",
       "      <td>184244</td>\n",
       "      <td>Grp228</td>\n",
       "      <td>0.560000</td>\n",
       "      <td>1.013333</td>\n",
       "      <td>0.593333</td>\n",
       "      <td>0.416667</td>\n",
       "      <td>0.773333</td>\n",
       "      <td>0.460000</td>\n",
       "      <td>0.853333</td>\n",
       "      <td>0.796667</td>\n",
       "      <td>...</td>\n",
       "      <td>0.486667</td>\n",
       "      <td>0.693333</td>\n",
       "      <td>0.526667</td>\n",
       "      <td>0.520000</td>\n",
       "      <td>0.716667</td>\n",
       "      <td>0.706667</td>\n",
       "      <td>0.673333</td>\n",
       "      <td>-247.5775</td>\n",
       "      <td>0.0</td>\n",
       "      <td>train</td>\n",
       "    </tr>\n",
       "  </tbody>\n",
       "</table>\n",
       "<p>5 rows × 29 columns</p>\n",
       "</div>"
      ],
      "text/plain": [
       "       id   Group      Per1      Per2      Per3      Per4      Per5      Per6  \\\n",
       "0  112751  Grp169  1.070000  0.580000  0.480000  0.766667  1.233333  1.993333   \n",
       "1   18495  Grp161  0.473333  1.206667  0.883333  1.430000  0.726667  0.626667   \n",
       "2   23915  Grp261  1.130000  0.143333  0.946667  0.123333  0.080000  0.836667   \n",
       "3   50806  Grp198  0.636667  1.090000  0.750000  0.940000  0.743333  0.346667   \n",
       "4  184244  Grp228  0.560000  1.013333  0.593333  0.416667  0.773333  0.460000   \n",
       "\n",
       "       Per7      Per8  ...      Dem9     Cred1     Cred2     Cred3     Cred4  \\\n",
       "0  0.340000  1.010000  ...  0.726667  0.606667  1.010000  0.933333  0.603333   \n",
       "1  0.810000  0.783333  ...  0.743333  0.680000  0.690000  0.560000  0.670000   \n",
       "2  0.056667  0.756667  ...  0.820000  0.600000  0.383333  0.763333  0.670000   \n",
       "3  0.956667  0.633333  ...  0.900000  0.680000  0.846667  0.423333  0.520000   \n",
       "4  0.853333  0.796667  ...  0.486667  0.693333  0.526667  0.520000  0.716667   \n",
       "\n",
       "      Cred5     Cred6  Normalised_FNT  Target   data  \n",
       "0  0.686667  0.673333       -245.7500     0.0  train  \n",
       "1  0.553333  0.653333       -248.0000     0.0  train  \n",
       "2  0.686667  0.673333       -233.1250     0.0  train  \n",
       "3  0.846667  0.760000       -249.7775     0.0  train  \n",
       "4  0.706667  0.673333       -247.5775     0.0  train  \n",
       "\n",
       "[5 rows x 29 columns]"
      ]
     },
     "execution_count": 101,
     "metadata": {},
     "output_type": "execute_result"
    }
   ],
   "source": [
    "# Checking top 5 rows after merging\n",
    "\n",
    "all_data.head()"
   ]
  },
  {
   "cell_type": "code",
   "execution_count": 102,
   "id": "3785f19d",
   "metadata": {},
   "outputs": [
    {
     "data": {
      "text/html": [
       "<div>\n",
       "<style scoped>\n",
       "    .dataframe tbody tr th:only-of-type {\n",
       "        vertical-align: middle;\n",
       "    }\n",
       "\n",
       "    .dataframe tbody tr th {\n",
       "        vertical-align: top;\n",
       "    }\n",
       "\n",
       "    .dataframe thead th {\n",
       "        text-align: right;\n",
       "    }\n",
       "</style>\n",
       "<table border=\"1\" class=\"dataframe\">\n",
       "  <thead>\n",
       "    <tr style=\"text-align: right;\">\n",
       "      <th></th>\n",
       "      <th>id</th>\n",
       "      <th>Group</th>\n",
       "      <th>Per1</th>\n",
       "      <th>Per2</th>\n",
       "      <th>Per3</th>\n",
       "      <th>Per4</th>\n",
       "      <th>Per5</th>\n",
       "      <th>Per6</th>\n",
       "      <th>Per7</th>\n",
       "      <th>Per8</th>\n",
       "      <th>...</th>\n",
       "      <th>Dem9</th>\n",
       "      <th>Cred1</th>\n",
       "      <th>Cred2</th>\n",
       "      <th>Cred3</th>\n",
       "      <th>Cred4</th>\n",
       "      <th>Cred5</th>\n",
       "      <th>Cred6</th>\n",
       "      <th>Normalised_FNT</th>\n",
       "      <th>Target</th>\n",
       "      <th>data</th>\n",
       "    </tr>\n",
       "  </thead>\n",
       "  <tbody>\n",
       "    <tr>\n",
       "      <th>56957</th>\n",
       "      <td>18333</td>\n",
       "      <td>Grp102</td>\n",
       "      <td>0.553333</td>\n",
       "      <td>1.043333</td>\n",
       "      <td>1.096667</td>\n",
       "      <td>0.686667</td>\n",
       "      <td>0.673333</td>\n",
       "      <td>0.340000</td>\n",
       "      <td>0.900000</td>\n",
       "      <td>0.643333</td>\n",
       "      <td>...</td>\n",
       "      <td>0.433333</td>\n",
       "      <td>0.660000</td>\n",
       "      <td>0.776667</td>\n",
       "      <td>0.610000</td>\n",
       "      <td>0.690000</td>\n",
       "      <td>0.750000</td>\n",
       "      <td>0.700000</td>\n",
       "      <td>-249.5050</td>\n",
       "      <td>NaN</td>\n",
       "      <td>test</td>\n",
       "    </tr>\n",
       "    <tr>\n",
       "      <th>56958</th>\n",
       "      <td>244207</td>\n",
       "      <td>Grp504</td>\n",
       "      <td>1.353333</td>\n",
       "      <td>0.616667</td>\n",
       "      <td>0.276667</td>\n",
       "      <td>0.783333</td>\n",
       "      <td>0.690000</td>\n",
       "      <td>0.650000</td>\n",
       "      <td>0.473333</td>\n",
       "      <td>0.670000</td>\n",
       "      <td>...</td>\n",
       "      <td>0.870000</td>\n",
       "      <td>0.683333</td>\n",
       "      <td>0.690000</td>\n",
       "      <td>0.640000</td>\n",
       "      <td>0.883333</td>\n",
       "      <td>0.663333</td>\n",
       "      <td>0.660000</td>\n",
       "      <td>-248.7525</td>\n",
       "      <td>NaN</td>\n",
       "      <td>test</td>\n",
       "    </tr>\n",
       "    <tr>\n",
       "      <th>56959</th>\n",
       "      <td>103277</td>\n",
       "      <td>Grp78</td>\n",
       "      <td>1.083333</td>\n",
       "      <td>0.433333</td>\n",
       "      <td>0.806667</td>\n",
       "      <td>0.490000</td>\n",
       "      <td>0.243333</td>\n",
       "      <td>0.316667</td>\n",
       "      <td>0.533333</td>\n",
       "      <td>0.606667</td>\n",
       "      <td>...</td>\n",
       "      <td>0.063333</td>\n",
       "      <td>0.753333</td>\n",
       "      <td>0.780000</td>\n",
       "      <td>0.603333</td>\n",
       "      <td>0.880000</td>\n",
       "      <td>0.643333</td>\n",
       "      <td>0.676667</td>\n",
       "      <td>-231.0500</td>\n",
       "      <td>NaN</td>\n",
       "      <td>test</td>\n",
       "    </tr>\n",
       "    <tr>\n",
       "      <th>56960</th>\n",
       "      <td>273294</td>\n",
       "      <td>Grp134</td>\n",
       "      <td>0.566667</td>\n",
       "      <td>1.153333</td>\n",
       "      <td>0.370000</td>\n",
       "      <td>0.616667</td>\n",
       "      <td>0.793333</td>\n",
       "      <td>0.226667</td>\n",
       "      <td>0.910000</td>\n",
       "      <td>0.696667</td>\n",
       "      <td>...</td>\n",
       "      <td>1.026667</td>\n",
       "      <td>0.626667</td>\n",
       "      <td>0.646667</td>\n",
       "      <td>0.566667</td>\n",
       "      <td>0.616667</td>\n",
       "      <td>0.713333</td>\n",
       "      <td>0.706667</td>\n",
       "      <td>-246.3150</td>\n",
       "      <td>NaN</td>\n",
       "      <td>test</td>\n",
       "    </tr>\n",
       "    <tr>\n",
       "      <th>56961</th>\n",
       "      <td>223337</td>\n",
       "      <td>Grp18</td>\n",
       "      <td>1.426667</td>\n",
       "      <td>0.110000</td>\n",
       "      <td>-0.006667</td>\n",
       "      <td>-0.200000</td>\n",
       "      <td>0.983333</td>\n",
       "      <td>1.870000</td>\n",
       "      <td>0.033333</td>\n",
       "      <td>0.963333</td>\n",
       "      <td>...</td>\n",
       "      <td>0.670000</td>\n",
       "      <td>0.770000</td>\n",
       "      <td>0.893333</td>\n",
       "      <td>0.586667</td>\n",
       "      <td>0.616667</td>\n",
       "      <td>0.683333</td>\n",
       "      <td>0.650000</td>\n",
       "      <td>-248.4500</td>\n",
       "      <td>NaN</td>\n",
       "      <td>test</td>\n",
       "    </tr>\n",
       "  </tbody>\n",
       "</table>\n",
       "<p>5 rows × 29 columns</p>\n",
       "</div>"
      ],
      "text/plain": [
       "           id   Group      Per1      Per2      Per3      Per4      Per5  \\\n",
       "56957   18333  Grp102  0.553333  1.043333  1.096667  0.686667  0.673333   \n",
       "56958  244207  Grp504  1.353333  0.616667  0.276667  0.783333  0.690000   \n",
       "56959  103277   Grp78  1.083333  0.433333  0.806667  0.490000  0.243333   \n",
       "56960  273294  Grp134  0.566667  1.153333  0.370000  0.616667  0.793333   \n",
       "56961  223337   Grp18  1.426667  0.110000 -0.006667 -0.200000  0.983333   \n",
       "\n",
       "           Per6      Per7      Per8  ...      Dem9     Cred1     Cred2  \\\n",
       "56957  0.340000  0.900000  0.643333  ...  0.433333  0.660000  0.776667   \n",
       "56958  0.650000  0.473333  0.670000  ...  0.870000  0.683333  0.690000   \n",
       "56959  0.316667  0.533333  0.606667  ...  0.063333  0.753333  0.780000   \n",
       "56960  0.226667  0.910000  0.696667  ...  1.026667  0.626667  0.646667   \n",
       "56961  1.870000  0.033333  0.963333  ...  0.670000  0.770000  0.893333   \n",
       "\n",
       "          Cred3     Cred4     Cred5     Cred6  Normalised_FNT  Target  data  \n",
       "56957  0.610000  0.690000  0.750000  0.700000       -249.5050     NaN  test  \n",
       "56958  0.640000  0.883333  0.663333  0.660000       -248.7525     NaN  test  \n",
       "56959  0.603333  0.880000  0.643333  0.676667       -231.0500     NaN  test  \n",
       "56960  0.566667  0.616667  0.713333  0.706667       -246.3150     NaN  test  \n",
       "56961  0.586667  0.616667  0.683333  0.650000       -248.4500     NaN  test  \n",
       "\n",
       "[5 rows x 29 columns]"
      ]
     },
     "execution_count": 102,
     "metadata": {},
     "output_type": "execute_result"
    }
   ],
   "source": [
    "# Checking last 5 rows after merging\n",
    "\n",
    "all_data.tail()\n",
    "\n",
    "# Outcome:\n",
    "# Merging seems good as checked by values in 'data' column\n",
    "# 'Target' column has null values which is expected as there was no 'Target' column in test_data"
   ]
  },
  {
   "cell_type": "code",
   "execution_count": 103,
   "id": "37082274",
   "metadata": {},
   "outputs": [
    {
     "data": {
      "text/plain": [
       "Index(['id', 'Group', 'Per1', 'Per2', 'Per3', 'Per4', 'Per5', 'Per6', 'Per7',\n",
       "       'Per8', 'Per9', 'Dem1', 'Dem2', 'Dem3', 'Dem4', 'Dem5', 'Dem6', 'Dem7',\n",
       "       'Dem8', 'Dem9', 'Cred1', 'Cred2', 'Cred3', 'Cred4', 'Cred5', 'Cred6',\n",
       "       'Normalised_FNT', 'Target', 'data'],\n",
       "      dtype='object')"
      ]
     },
     "execution_count": 103,
     "metadata": {},
     "output_type": "execute_result"
    }
   ],
   "source": [
    "# Checking columns after merging\n",
    "\n",
    "all_data.columns"
   ]
  },
  {
   "cell_type": "code",
   "execution_count": 104,
   "id": "d7fab4be",
   "metadata": {},
   "outputs": [
    {
     "name": "stdout",
     "output_type": "stream",
     "text": [
      "Number of unique values in 'id' column of all_data file:  284807\n",
      "\n",
      "Number of unique values in 'Group' column of all_data file:  1400\n"
     ]
    }
   ],
   "source": [
    "# Checking unique values of 'id' and 'Group' columns in merged data\n",
    "\n",
    "print(f\"Number of unique values in 'id' column of all_data file: \", apply_df_method(all_data['id'], 'nunique'))\n",
    "print()\n",
    "print(f\"Number of unique values in 'Group' column of all_data file: \", apply_df_method(all_data['Group'], 'nunique'))\n",
    "\n",
    "# Outcome :\n",
    "# Merged data seems consistent with other data files"
   ]
  },
  {
   "cell_type": "code",
   "execution_count": null,
   "id": "5c106f8b",
   "metadata": {},
   "outputs": [],
   "source": [
    "# Refreshing and changint some items of the dictionary \n",
    "\n",
    "combined_data = {\"geo\" : geo, \"instance\" : instance, \"lambdawts\" : lambdawts, \"qset\" : qset, \"all_data\" : all_data }"
   ]
  },
  {
   "cell_type": "code",
   "execution_count": 107,
   "id": "734d1938",
   "metadata": {},
   "outputs": [],
   "source": [
    "# Adding all_data to the dictionary\n",
    "\n",
    "combined_data['all_data'] = all_data"
   ]
  },
  {
   "cell_type": "code",
   "execution_count": 108,
   "id": "48121993",
   "metadata": {},
   "outputs": [
    {
     "data": {
      "text/html": [
       "<div>\n",
       "<style scoped>\n",
       "    .dataframe tbody tr th:only-of-type {\n",
       "        vertical-align: middle;\n",
       "    }\n",
       "\n",
       "    .dataframe tbody tr th {\n",
       "        vertical-align: top;\n",
       "    }\n",
       "\n",
       "    .dataframe thead th {\n",
       "        text-align: right;\n",
       "    }\n",
       "</style>\n",
       "<table border=\"1\" class=\"dataframe\">\n",
       "  <thead>\n",
       "    <tr style=\"text-align: right;\">\n",
       "      <th></th>\n",
       "      <th>id</th>\n",
       "      <th>Group</th>\n",
       "      <th>Per1</th>\n",
       "      <th>Per2</th>\n",
       "      <th>Per3</th>\n",
       "      <th>Per4</th>\n",
       "      <th>Per5</th>\n",
       "      <th>Per6</th>\n",
       "      <th>Per7</th>\n",
       "      <th>Per8</th>\n",
       "      <th>...</th>\n",
       "      <th>Dem9</th>\n",
       "      <th>Cred1</th>\n",
       "      <th>Cred2</th>\n",
       "      <th>Cred3</th>\n",
       "      <th>Cred4</th>\n",
       "      <th>Cred5</th>\n",
       "      <th>Cred6</th>\n",
       "      <th>Normalised_FNT</th>\n",
       "      <th>Target</th>\n",
       "      <th>data</th>\n",
       "    </tr>\n",
       "  </thead>\n",
       "  <tbody>\n",
       "    <tr>\n",
       "      <th>56957</th>\n",
       "      <td>18333</td>\n",
       "      <td>Grp102</td>\n",
       "      <td>0.553333</td>\n",
       "      <td>1.043333</td>\n",
       "      <td>1.096667</td>\n",
       "      <td>0.686667</td>\n",
       "      <td>0.673333</td>\n",
       "      <td>0.340000</td>\n",
       "      <td>0.900000</td>\n",
       "      <td>0.643333</td>\n",
       "      <td>...</td>\n",
       "      <td>0.433333</td>\n",
       "      <td>0.660000</td>\n",
       "      <td>0.776667</td>\n",
       "      <td>0.610000</td>\n",
       "      <td>0.690000</td>\n",
       "      <td>0.750000</td>\n",
       "      <td>0.700000</td>\n",
       "      <td>-249.5050</td>\n",
       "      <td>NaN</td>\n",
       "      <td>test</td>\n",
       "    </tr>\n",
       "    <tr>\n",
       "      <th>56958</th>\n",
       "      <td>244207</td>\n",
       "      <td>Grp504</td>\n",
       "      <td>1.353333</td>\n",
       "      <td>0.616667</td>\n",
       "      <td>0.276667</td>\n",
       "      <td>0.783333</td>\n",
       "      <td>0.690000</td>\n",
       "      <td>0.650000</td>\n",
       "      <td>0.473333</td>\n",
       "      <td>0.670000</td>\n",
       "      <td>...</td>\n",
       "      <td>0.870000</td>\n",
       "      <td>0.683333</td>\n",
       "      <td>0.690000</td>\n",
       "      <td>0.640000</td>\n",
       "      <td>0.883333</td>\n",
       "      <td>0.663333</td>\n",
       "      <td>0.660000</td>\n",
       "      <td>-248.7525</td>\n",
       "      <td>NaN</td>\n",
       "      <td>test</td>\n",
       "    </tr>\n",
       "    <tr>\n",
       "      <th>56959</th>\n",
       "      <td>103277</td>\n",
       "      <td>Grp78</td>\n",
       "      <td>1.083333</td>\n",
       "      <td>0.433333</td>\n",
       "      <td>0.806667</td>\n",
       "      <td>0.490000</td>\n",
       "      <td>0.243333</td>\n",
       "      <td>0.316667</td>\n",
       "      <td>0.533333</td>\n",
       "      <td>0.606667</td>\n",
       "      <td>...</td>\n",
       "      <td>0.063333</td>\n",
       "      <td>0.753333</td>\n",
       "      <td>0.780000</td>\n",
       "      <td>0.603333</td>\n",
       "      <td>0.880000</td>\n",
       "      <td>0.643333</td>\n",
       "      <td>0.676667</td>\n",
       "      <td>-231.0500</td>\n",
       "      <td>NaN</td>\n",
       "      <td>test</td>\n",
       "    </tr>\n",
       "    <tr>\n",
       "      <th>56960</th>\n",
       "      <td>273294</td>\n",
       "      <td>Grp134</td>\n",
       "      <td>0.566667</td>\n",
       "      <td>1.153333</td>\n",
       "      <td>0.370000</td>\n",
       "      <td>0.616667</td>\n",
       "      <td>0.793333</td>\n",
       "      <td>0.226667</td>\n",
       "      <td>0.910000</td>\n",
       "      <td>0.696667</td>\n",
       "      <td>...</td>\n",
       "      <td>1.026667</td>\n",
       "      <td>0.626667</td>\n",
       "      <td>0.646667</td>\n",
       "      <td>0.566667</td>\n",
       "      <td>0.616667</td>\n",
       "      <td>0.713333</td>\n",
       "      <td>0.706667</td>\n",
       "      <td>-246.3150</td>\n",
       "      <td>NaN</td>\n",
       "      <td>test</td>\n",
       "    </tr>\n",
       "    <tr>\n",
       "      <th>56961</th>\n",
       "      <td>223337</td>\n",
       "      <td>Grp18</td>\n",
       "      <td>1.426667</td>\n",
       "      <td>0.110000</td>\n",
       "      <td>-0.006667</td>\n",
       "      <td>-0.200000</td>\n",
       "      <td>0.983333</td>\n",
       "      <td>1.870000</td>\n",
       "      <td>0.033333</td>\n",
       "      <td>0.963333</td>\n",
       "      <td>...</td>\n",
       "      <td>0.670000</td>\n",
       "      <td>0.770000</td>\n",
       "      <td>0.893333</td>\n",
       "      <td>0.586667</td>\n",
       "      <td>0.616667</td>\n",
       "      <td>0.683333</td>\n",
       "      <td>0.650000</td>\n",
       "      <td>-248.4500</td>\n",
       "      <td>NaN</td>\n",
       "      <td>test</td>\n",
       "    </tr>\n",
       "  </tbody>\n",
       "</table>\n",
       "<p>5 rows × 29 columns</p>\n",
       "</div>"
      ],
      "text/plain": [
       "           id   Group      Per1      Per2      Per3      Per4      Per5  \\\n",
       "56957   18333  Grp102  0.553333  1.043333  1.096667  0.686667  0.673333   \n",
       "56958  244207  Grp504  1.353333  0.616667  0.276667  0.783333  0.690000   \n",
       "56959  103277   Grp78  1.083333  0.433333  0.806667  0.490000  0.243333   \n",
       "56960  273294  Grp134  0.566667  1.153333  0.370000  0.616667  0.793333   \n",
       "56961  223337   Grp18  1.426667  0.110000 -0.006667 -0.200000  0.983333   \n",
       "\n",
       "           Per6      Per7      Per8  ...      Dem9     Cred1     Cred2  \\\n",
       "56957  0.340000  0.900000  0.643333  ...  0.433333  0.660000  0.776667   \n",
       "56958  0.650000  0.473333  0.670000  ...  0.870000  0.683333  0.690000   \n",
       "56959  0.316667  0.533333  0.606667  ...  0.063333  0.753333  0.780000   \n",
       "56960  0.226667  0.910000  0.696667  ...  1.026667  0.626667  0.646667   \n",
       "56961  1.870000  0.033333  0.963333  ...  0.670000  0.770000  0.893333   \n",
       "\n",
       "          Cred3     Cred4     Cred5     Cred6  Normalised_FNT  Target  data  \n",
       "56957  0.610000  0.690000  0.750000  0.700000       -249.5050     NaN  test  \n",
       "56958  0.640000  0.883333  0.663333  0.660000       -248.7525     NaN  test  \n",
       "56959  0.603333  0.880000  0.643333  0.676667       -231.0500     NaN  test  \n",
       "56960  0.566667  0.616667  0.713333  0.706667       -246.3150     NaN  test  \n",
       "56961  0.586667  0.616667  0.683333  0.650000       -248.4500     NaN  test  \n",
       "\n",
       "[5 rows x 29 columns]"
      ]
     },
     "execution_count": 108,
     "metadata": {},
     "output_type": "execute_result"
    }
   ],
   "source": [
    "# Checking the dictionary\n",
    "\n",
    "combined_data['all_data'].tail()"
   ]
  },
  {
   "cell_type": "code",
   "execution_count": 109,
   "id": "d54a7703",
   "metadata": {},
   "outputs": [
    {
     "name": "stdout",
     "output_type": "stream",
     "text": [
      "The null values in geo file: \n",
      "id               0\n",
      "geo_score    71543\n",
      "dtype: int64\n",
      "----------------------------------\n",
      "The null values in instance file: \n",
      "id                 0\n",
      "instance_scores    0\n",
      "dtype: int64\n",
      "----------------------------------\n",
      "The null values in lambdawts file: \n",
      "Group        0\n",
      "lambda_wt    0\n",
      "dtype: int64\n",
      "----------------------------------\n",
      "The null values in qset file: \n",
      "id                           0\n",
      "qsets_normalized_tat    103201\n",
      "dtype: int64\n",
      "----------------------------------\n",
      "The null values in all_data file: \n",
      "id                    0\n",
      "Group                 0\n",
      "Per1                  0\n",
      "Per2                  0\n",
      "Per3                  0\n",
      "Per4                  0\n",
      "Per5                  0\n",
      "Per6                  0\n",
      "Per7                  0\n",
      "Per8                  0\n",
      "Per9                  0\n",
      "Dem1                  0\n",
      "Dem2                  0\n",
      "Dem3                  0\n",
      "Dem4                  0\n",
      "Dem5                  0\n",
      "Dem6                  0\n",
      "Dem7                  0\n",
      "Dem8                  0\n",
      "Dem9                  0\n",
      "Cred1                 0\n",
      "Cred2                 0\n",
      "Cred3                 0\n",
      "Cred4                 0\n",
      "Cred5                 0\n",
      "Cred6                 0\n",
      "Normalised_FNT        0\n",
      "Target            56962\n",
      "data                  0\n",
      "dtype: int64\n",
      "----------------------------------\n"
     ]
    }
   ],
   "source": [
    "#Checking the null values\n",
    "\n",
    "for key, value in combined_data.items():\n",
    "    print(f\"The null values in {key} file: \")\n",
    "    print(apply_df_method(value, 'isnull').sum())\n",
    "    print(\"----------------------------------\")\n",
    "\n",
    "#Outcome:\n",
    "# geo file and qset file has null values"
   ]
  },
  {
   "cell_type": "code",
   "execution_count": 110,
   "id": "ae6de6e6",
   "metadata": {},
   "outputs": [
    {
     "name": "stdout",
     "output_type": "stream",
     "text": [
      "                 id     geo_score\n",
      "count  1.424035e+06  1.352492e+06\n",
      "mean   1.424030e+05 -9.279168e-06\n",
      "std    8.221673e+04  7.827199e+00\n",
      "min    0.000000e+00 -1.093900e+02\n",
      "25%    7.120100e+04 -5.860000e+00\n",
      "50%    1.424030e+05  1.800000e-01\n",
      "75%    2.136050e+05  5.860000e+00\n",
      "max    2.848060e+05  4.581000e+01\n",
      "----------------------------------\n",
      "                 id  qsets_normalized_tat\n",
      "count  1.424035e+06          1.320834e+06\n",
      "mean   1.424030e+05          1.094006e-05\n",
      "std    8.221673e+04          7.731794e+00\n",
      "min    0.000000e+00         -1.404400e+02\n",
      "25%    7.120100e+04         -5.860000e+00\n",
      "50%    1.424030e+05          2.000000e-02\n",
      "75%    2.136050e+05          5.860000e+00\n",
      "max    2.848060e+05          6.110000e+01\n"
     ]
    }
   ],
   "source": [
    "# Describing the data\n",
    "\n",
    "print(geo.describe())\n",
    "print(\"----------------------------------\")\n",
    "print(qset.describe())\n",
    "\n",
    "# Outcome:\n",
    "# We can either fill with median value or mean value"
   ]
  },
  {
   "cell_type": "code",
   "execution_count": 111,
   "id": "f06d499e",
   "metadata": {},
   "outputs": [],
   "source": [
    "# Imputing median values in both the columns\n",
    "\n",
    "geo[\"geo_score\"] = geo[\"geo_score\"].fillna(geo[\"geo_score\"].median())\n",
    "qset[\"qsets_normalized_tat\"] = qset[\"qsets_normalized_tat\"].fillna(qset[\"qsets_normalized_tat\"].median())"
   ]
  },
  {
   "cell_type": "code",
   "execution_count": 112,
   "id": "fd69510b",
   "metadata": {},
   "outputs": [
    {
     "name": "stdout",
     "output_type": "stream",
     "text": [
      "The null values in geo file: \n",
      "id           0\n",
      "geo_score    0\n",
      "dtype: int64\n",
      "----------------------------------\n",
      "The null values in instance file: \n",
      "id                 0\n",
      "instance_scores    0\n",
      "dtype: int64\n",
      "----------------------------------\n",
      "The null values in lambdawts file: \n",
      "Group        0\n",
      "lambda_wt    0\n",
      "dtype: int64\n",
      "----------------------------------\n",
      "The null values in qset file: \n",
      "id                      0\n",
      "qsets_normalized_tat    0\n",
      "dtype: int64\n",
      "----------------------------------\n",
      "The null values in all_data file: \n",
      "id                    0\n",
      "Group                 0\n",
      "Per1                  0\n",
      "Per2                  0\n",
      "Per3                  0\n",
      "Per4                  0\n",
      "Per5                  0\n",
      "Per6                  0\n",
      "Per7                  0\n",
      "Per8                  0\n",
      "Per9                  0\n",
      "Dem1                  0\n",
      "Dem2                  0\n",
      "Dem3                  0\n",
      "Dem4                  0\n",
      "Dem5                  0\n",
      "Dem6                  0\n",
      "Dem7                  0\n",
      "Dem8                  0\n",
      "Dem9                  0\n",
      "Cred1                 0\n",
      "Cred2                 0\n",
      "Cred3                 0\n",
      "Cred4                 0\n",
      "Cred5                 0\n",
      "Cred6                 0\n",
      "Normalised_FNT        0\n",
      "Target            56962\n",
      "data                  0\n",
      "dtype: int64\n",
      "----------------------------------\n"
     ]
    }
   ],
   "source": [
    "#Checking the null values again\n",
    "\n",
    "for key, value in combined_data.items():\n",
    "    print(f\"The null values in {key} file: \")\n",
    "    print(apply_df_method(value, 'isnull').sum())\n",
    "    print(\"----------------------------------\")\n",
    "\n",
    "# Outcome:\n",
    "# Null values succesfully handled"
   ]
  },
  {
   "cell_type": "code",
   "execution_count": 113,
   "id": "c79dc5b2",
   "metadata": {},
   "outputs": [
    {
     "data": {
      "text/plain": [
       "(1424035, 2)"
      ]
     },
     "execution_count": 113,
     "metadata": {},
     "output_type": "execute_result"
    }
   ],
   "source": [
    "# Checking shape of the Geo file\n",
    "\n",
    "geo.shape"
   ]
  },
  {
   "cell_type": "code",
   "execution_count": 114,
   "id": "a59695af",
   "metadata": {},
   "outputs": [
    {
     "data": {
      "text/plain": [
       "284807"
      ]
     },
     "execution_count": 114,
     "metadata": {},
     "output_type": "execute_result"
    }
   ],
   "source": [
    "#Checking number of unique values in Geo file\n",
    "\n",
    "geo[\"id\"].nunique()\n",
    "\n",
    "# Outcome:\n",
    "# Unique values are way less than all the values which is expected\n",
    "# This means that same 'id' is repeating many times\n",
    "\n",
    "# Action:\n",
    "# Lets just take the mean of the geo scores grouped by the 'id'.\n",
    "# This will give an average geo score per id which means we'll get a sense of the location."
   ]
  },
  {
   "cell_type": "code",
   "execution_count": 115,
   "id": "6177d662",
   "metadata": {},
   "outputs": [],
   "source": [
    "# Taking average of geo scores grouped by 'id'\n",
    "\n",
    "geo = geo.groupby('id').mean()"
   ]
  },
  {
   "cell_type": "code",
   "execution_count": 116,
   "id": "e050dbce",
   "metadata": {},
   "outputs": [
    {
     "data": {
      "text/plain": [
       "(284807, 1)"
      ]
     },
     "execution_count": 116,
     "metadata": {},
     "output_type": "execute_result"
    }
   ],
   "source": [
    "geo.shape"
   ]
  },
  {
   "cell_type": "code",
   "execution_count": 117,
   "id": "ca8fa1fc",
   "metadata": {},
   "outputs": [
    {
     "data": {
      "text/html": [
       "<div>\n",
       "<style scoped>\n",
       "    .dataframe tbody tr th:only-of-type {\n",
       "        vertical-align: middle;\n",
       "    }\n",
       "\n",
       "    .dataframe tbody tr th {\n",
       "        vertical-align: top;\n",
       "    }\n",
       "\n",
       "    .dataframe thead th {\n",
       "        text-align: right;\n",
       "    }\n",
       "</style>\n",
       "<table border=\"1\" class=\"dataframe\">\n",
       "  <thead>\n",
       "    <tr style=\"text-align: right;\">\n",
       "      <th></th>\n",
       "      <th>geo_score</th>\n",
       "    </tr>\n",
       "    <tr>\n",
       "      <th>id</th>\n",
       "      <th></th>\n",
       "    </tr>\n",
       "  </thead>\n",
       "  <tbody>\n",
       "    <tr>\n",
       "      <th>0</th>\n",
       "      <td>-0.620</td>\n",
       "    </tr>\n",
       "    <tr>\n",
       "      <th>1</th>\n",
       "      <td>1.106</td>\n",
       "    </tr>\n",
       "    <tr>\n",
       "      <th>2</th>\n",
       "      <td>0.070</td>\n",
       "    </tr>\n",
       "    <tr>\n",
       "      <th>3</th>\n",
       "      <td>0.180</td>\n",
       "    </tr>\n",
       "    <tr>\n",
       "      <th>4</th>\n",
       "      <td>0.540</td>\n",
       "    </tr>\n",
       "    <tr>\n",
       "      <th>...</th>\n",
       "      <td>...</td>\n",
       "    </tr>\n",
       "    <tr>\n",
       "      <th>284802</th>\n",
       "      <td>2.710</td>\n",
       "    </tr>\n",
       "    <tr>\n",
       "      <th>284803</th>\n",
       "      <td>0.956</td>\n",
       "    </tr>\n",
       "    <tr>\n",
       "      <th>284804</th>\n",
       "      <td>0.060</td>\n",
       "    </tr>\n",
       "    <tr>\n",
       "      <th>284805</th>\n",
       "      <td>-0.960</td>\n",
       "    </tr>\n",
       "    <tr>\n",
       "      <th>284806</th>\n",
       "      <td>-0.030</td>\n",
       "    </tr>\n",
       "  </tbody>\n",
       "</table>\n",
       "<p>284807 rows × 1 columns</p>\n",
       "</div>"
      ],
      "text/plain": [
       "        geo_score\n",
       "id               \n",
       "0          -0.620\n",
       "1           1.106\n",
       "2           0.070\n",
       "3           0.180\n",
       "4           0.540\n",
       "...           ...\n",
       "284802      2.710\n",
       "284803      0.956\n",
       "284804      0.060\n",
       "284805     -0.960\n",
       "284806     -0.030\n",
       "\n",
       "[284807 rows x 1 columns]"
      ]
     },
     "execution_count": 117,
     "metadata": {},
     "output_type": "execute_result"
    }
   ],
   "source": [
    "geo"
   ]
  },
  {
   "cell_type": "code",
   "execution_count": 118,
   "id": "0d8e1fb9",
   "metadata": {},
   "outputs": [],
   "source": [
    "# Same thing we are doing with the qset file\n",
    "\n",
    "qset = qset.groupby('id').mean()"
   ]
  },
  {
   "cell_type": "code",
   "execution_count": 119,
   "id": "af807d48",
   "metadata": {},
   "outputs": [
    {
     "data": {
      "text/plain": [
       "(284807, 1)"
      ]
     },
     "execution_count": 119,
     "metadata": {},
     "output_type": "execute_result"
    }
   ],
   "source": [
    "qset.shape"
   ]
  },
  {
   "cell_type": "code",
   "execution_count": 120,
   "id": "26f9e61b",
   "metadata": {},
   "outputs": [
    {
     "data": {
      "text/plain": [
       "(1424035, 2)"
      ]
     },
     "execution_count": 120,
     "metadata": {},
     "output_type": "execute_result"
    }
   ],
   "source": [
    "# Same thing we are doing with the instance file.\n",
    "\n",
    "instance.shape"
   ]
  },
  {
   "cell_type": "code",
   "execution_count": 121,
   "id": "d5ff022d",
   "metadata": {},
   "outputs": [],
   "source": [
    "instance = instance.groupby('id').mean()"
   ]
  },
  {
   "cell_type": "code",
   "execution_count": 122,
   "id": "9ffb5f21",
   "metadata": {},
   "outputs": [
    {
     "data": {
      "text/plain": [
       "(284807, 1)"
      ]
     },
     "execution_count": 122,
     "metadata": {},
     "output_type": "execute_result"
    }
   ],
   "source": [
    "instance.shape"
   ]
  },
  {
   "cell_type": "code",
   "execution_count": 123,
   "id": "5f064035",
   "metadata": {},
   "outputs": [
    {
     "data": {
      "text/plain": [
       "(1400, 2)"
      ]
     },
     "execution_count": 123,
     "metadata": {},
     "output_type": "execute_result"
    }
   ],
   "source": [
    "# Checking the shape of the lambdawts file\n",
    "\n",
    "lambdawts.shape"
   ]
  },
  {
   "cell_type": "code",
   "execution_count": 178,
   "id": "9f33c523",
   "metadata": {},
   "outputs": [],
   "source": [
    "# Refreshing the dictionary \n",
    "\n",
    "combined_data = {\"geo\" : geo, \"instance\" : instance, \"lambdawts\" : lambdawts, \"qset\" : qset, \"all_data\" : all_data }"
   ]
  },
  {
   "cell_type": "code",
   "execution_count": null,
   "id": "cb0b92eb",
   "metadata": {},
   "outputs": [
    {
     "name": "stdout",
     "output_type": "stream",
     "text": [
      "The shape of geo file :  (284807, 1)\n",
      "\n",
      "The shape of instance file :  (284807, 1)\n",
      "\n",
      "The shape of lambdawts file :  (1400, 2)\n",
      "\n",
      "The shape of qset file :  (284807, 1)\n",
      "\n",
      "The shape of all_data file :  (284807, 29)\n",
      "\n"
     ]
    }
   ],
   "source": [
    "# Checking the shape of the data\n",
    "\n",
    "for key, value in combined_data.items():\n",
    "    print(f\"The shape of {key} file : \", apply_df_method(value, 'shape'))\n",
    "    print()\n",
    "    \n",
    "# Outcome :\n",
    "# We can merge all the data"
   ]
  },
  {
   "cell_type": "code",
   "execution_count": null,
   "id": "1b557b1a",
   "metadata": {},
   "outputs": [],
   "source": [
    "# Merging the data frames one by one apart from lambdawts df\n",
    "# Repeatedly changed other dataframes to left join with all_data df.\n",
    "\n",
    "all_data = pd.merge(all_data, qset, on='id', how = 'left')\n",
    "\n",
    "# Learning: \n",
    "# pd.merge() automatically merges columns with index prvided both have same names"
   ]
  },
  {
   "cell_type": "code",
   "execution_count": 194,
   "id": "a042c603",
   "metadata": {},
   "outputs": [],
   "source": [
    "# Merging lambdawts\n",
    "\n",
    "all_data = pd.merge(all_data, lambdawts, on='Group', how = 'left')\n"
   ]
  },
  {
   "cell_type": "code",
   "execution_count": null,
   "id": "d9067e63",
   "metadata": {},
   "outputs": [
    {
     "data": {
      "text/html": [
       "<div>\n",
       "<style scoped>\n",
       "    .dataframe tbody tr th:only-of-type {\n",
       "        vertical-align: middle;\n",
       "    }\n",
       "\n",
       "    .dataframe tbody tr th {\n",
       "        vertical-align: top;\n",
       "    }\n",
       "\n",
       "    .dataframe thead th {\n",
       "        text-align: right;\n",
       "    }\n",
       "</style>\n",
       "<table border=\"1\" class=\"dataframe\">\n",
       "  <thead>\n",
       "    <tr style=\"text-align: right;\">\n",
       "      <th></th>\n",
       "      <th>id</th>\n",
       "      <th>Group</th>\n",
       "      <th>Per1</th>\n",
       "      <th>Per2</th>\n",
       "      <th>Per3</th>\n",
       "      <th>Per4</th>\n",
       "      <th>Per5</th>\n",
       "      <th>Per6</th>\n",
       "      <th>Per7</th>\n",
       "      <th>Per8</th>\n",
       "      <th>...</th>\n",
       "      <th>Cred4</th>\n",
       "      <th>Cred5</th>\n",
       "      <th>Cred6</th>\n",
       "      <th>Normalised_FNT</th>\n",
       "      <th>Target</th>\n",
       "      <th>data</th>\n",
       "      <th>geo_score</th>\n",
       "      <th>instance_scores</th>\n",
       "      <th>qsets_normalized_tat</th>\n",
       "      <th>lambda_wt</th>\n",
       "    </tr>\n",
       "  </thead>\n",
       "  <tbody>\n",
       "    <tr>\n",
       "      <th>0</th>\n",
       "      <td>112751</td>\n",
       "      <td>Grp169</td>\n",
       "      <td>1.070000</td>\n",
       "      <td>0.580000</td>\n",
       "      <td>0.480000</td>\n",
       "      <td>0.766667</td>\n",
       "      <td>1.233333</td>\n",
       "      <td>1.993333</td>\n",
       "      <td>0.34</td>\n",
       "      <td>1.010000</td>\n",
       "      <td>...</td>\n",
       "      <td>0.603333</td>\n",
       "      <td>0.686667</td>\n",
       "      <td>0.673333</td>\n",
       "      <td>-245.75</td>\n",
       "      <td>0.0</td>\n",
       "      <td>train</td>\n",
       "      <td>0.256</td>\n",
       "      <td>-0.06</td>\n",
       "      <td>-0.70</td>\n",
       "      <td>-0.13</td>\n",
       "    </tr>\n",
       "    <tr>\n",
       "      <th>1</th>\n",
       "      <td>18495</td>\n",
       "      <td>Grp161</td>\n",
       "      <td>0.473333</td>\n",
       "      <td>1.206667</td>\n",
       "      <td>0.883333</td>\n",
       "      <td>1.430000</td>\n",
       "      <td>0.726667</td>\n",
       "      <td>0.626667</td>\n",
       "      <td>0.81</td>\n",
       "      <td>0.783333</td>\n",
       "      <td>...</td>\n",
       "      <td>0.670000</td>\n",
       "      <td>0.553333</td>\n",
       "      <td>0.653333</td>\n",
       "      <td>-248.00</td>\n",
       "      <td>0.0</td>\n",
       "      <td>train</td>\n",
       "      <td>-0.250</td>\n",
       "      <td>0.52</td>\n",
       "      <td>0.14</td>\n",
       "      <td>0.66</td>\n",
       "    </tr>\n",
       "  </tbody>\n",
       "</table>\n",
       "<p>2 rows × 33 columns</p>\n",
       "</div>"
      ],
      "text/plain": [
       "       id   Group      Per1      Per2      Per3      Per4      Per5      Per6  \\\n",
       "0  112751  Grp169  1.070000  0.580000  0.480000  0.766667  1.233333  1.993333   \n",
       "1   18495  Grp161  0.473333  1.206667  0.883333  1.430000  0.726667  0.626667   \n",
       "\n",
       "   Per7      Per8  ...     Cred4     Cred5     Cred6  Normalised_FNT  Target  \\\n",
       "0  0.34  1.010000  ...  0.603333  0.686667  0.673333         -245.75     0.0   \n",
       "1  0.81  0.783333  ...  0.670000  0.553333  0.653333         -248.00     0.0   \n",
       "\n",
       "    data  geo_score  instance_scores  qsets_normalized_tat  lambda_wt  \n",
       "0  train      0.256            -0.06                 -0.70      -0.13  \n",
       "1  train     -0.250             0.52                  0.14       0.66  \n",
       "\n",
       "[2 rows x 33 columns]"
      ]
     },
     "execution_count": 195,
     "metadata": {},
     "output_type": "execute_result"
    }
   ],
   "source": [
    "# Checking the data\n",
    "\n",
    "all_data.head(2)\n"
   ]
  },
  {
   "cell_type": "code",
   "execution_count": 197,
   "id": "b8cf8442",
   "metadata": {},
   "outputs": [],
   "source": [
    "# Splitting the data to train and test\n",
    "\n",
    "train_data = all_data[all_data[\"data\"]=='train']\n",
    "test_data = all_data[all_data[\"data\"]=='test']"
   ]
  },
  {
   "cell_type": "code",
   "execution_count": 198,
   "id": "508f4a61",
   "metadata": {},
   "outputs": [
    {
     "data": {
      "text/plain": [
       "(227845, 33)"
      ]
     },
     "execution_count": 198,
     "metadata": {},
     "output_type": "execute_result"
    }
   ],
   "source": [
    "# Checking the shape of train data\n",
    "\n",
    "train_data.shape"
   ]
  },
  {
   "cell_type": "code",
   "execution_count": null,
   "id": "a3117073",
   "metadata": {},
   "outputs": [
    {
     "data": {
      "text/plain": [
       "(56962, 33)"
      ]
     },
     "execution_count": 199,
     "metadata": {},
     "output_type": "execute_result"
    }
   ],
   "source": [
    "# Checking the shape of the test data \n",
    "\n",
    "test_data.shape\n",
    "\n",
    "# Outcome:\n",
    "# Both train_data and test_data now have original shape"
   ]
  },
  {
   "cell_type": "code",
   "execution_count": null,
   "id": "f09a8cd4",
   "metadata": {},
   "outputs": [
    {
     "data": {
      "text/plain": [
       "Index(['id', 'Group', 'Per1', 'Per2', 'Per3', 'Per4', 'Per5', 'Per6', 'Per7',\n",
       "       'Per8', 'Per9', 'Dem1', 'Dem2', 'Dem3', 'Dem4', 'Dem5', 'Dem6', 'Dem7',\n",
       "       'Dem8', 'Dem9', 'Cred1', 'Cred2', 'Cred3', 'Cred4', 'Cred5', 'Cred6',\n",
       "       'Normalised_FNT', 'Target', 'data', 'geo_score', 'instance_scores',\n",
       "       'qsets_normalized_tat', 'lambda_wt'],\n",
       "      dtype='object')"
      ]
     },
     "execution_count": 200,
     "metadata": {},
     "output_type": "execute_result"
    }
   ],
   "source": [
    "# Checking the columns of train_data\n",
    "\n",
    "train_data.columns\n",
    "\n",
    "# Outcome:\n",
    "# column 'data' is no longer required.\n",
    "# column 'id' and 'Group' does not seem significant \n",
    "# column 'Traget' is our dependent variable\n",
    "\n",
    "# Action to take:\n",
    "# Split the data between dependent and independent variables \n",
    "# Drop columns that are not required."
   ]
  },
  {
   "cell_type": "code",
   "execution_count": null,
   "id": "fb7f56fa",
   "metadata": {},
   "outputs": [],
   "source": [
    "# Splitting the data into independent and dependent variable and dropping the columns \n",
    "\n",
    "X = train_data.drop(['id', 'Group', 'Target', 'data'], axis=1)\n",
    "y = train_data['Target']\n"
   ]
  },
  {
   "cell_type": "code",
   "execution_count": null,
   "id": "e60e6588",
   "metadata": {},
   "outputs": [],
   "source": [
    "# Saving the training data in the system \n",
    "\n",
    "X.to_csv(r\"C:\\Users\\user\\Desktop\\Git Projects\\Banking-Domain\\data\\processed\\X_train\")\n",
    "y.to_csv(r\"C:\\Users\\user\\Desktop\\Git Projects\\Banking-Domain\\data\\processed\\y_train\")"
   ]
  },
  {
   "cell_type": "code",
   "execution_count": null,
   "id": "666a8aeb",
   "metadata": {},
   "outputs": [
    {
     "data": {
      "text/html": [
       "<div>\n",
       "<style scoped>\n",
       "    .dataframe tbody tr th:only-of-type {\n",
       "        vertical-align: middle;\n",
       "    }\n",
       "\n",
       "    .dataframe tbody tr th {\n",
       "        vertical-align: top;\n",
       "    }\n",
       "\n",
       "    .dataframe thead th {\n",
       "        text-align: right;\n",
       "    }\n",
       "</style>\n",
       "<table border=\"1\" class=\"dataframe\">\n",
       "  <thead>\n",
       "    <tr style=\"text-align: right;\">\n",
       "      <th></th>\n",
       "      <th>Per1</th>\n",
       "      <th>Per2</th>\n",
       "      <th>Per3</th>\n",
       "      <th>Per4</th>\n",
       "      <th>Per5</th>\n",
       "      <th>Per6</th>\n",
       "      <th>Per7</th>\n",
       "      <th>Per8</th>\n",
       "      <th>Per9</th>\n",
       "      <th>Dem1</th>\n",
       "      <th>...</th>\n",
       "      <th>Cred2</th>\n",
       "      <th>Cred3</th>\n",
       "      <th>Cred4</th>\n",
       "      <th>Cred5</th>\n",
       "      <th>Cred6</th>\n",
       "      <th>Normalised_FNT</th>\n",
       "      <th>geo_score</th>\n",
       "      <th>instance_scores</th>\n",
       "      <th>qsets_normalized_tat</th>\n",
       "      <th>lambda_wt</th>\n",
       "    </tr>\n",
       "  </thead>\n",
       "  <tbody>\n",
       "    <tr>\n",
       "      <th>0</th>\n",
       "      <td>1.070000</td>\n",
       "      <td>0.580000</td>\n",
       "      <td>0.480000</td>\n",
       "      <td>0.766667</td>\n",
       "      <td>1.233333</td>\n",
       "      <td>1.993333</td>\n",
       "      <td>0.34</td>\n",
       "      <td>1.010000</td>\n",
       "      <td>0.863333</td>\n",
       "      <td>0.46</td>\n",
       "      <td>...</td>\n",
       "      <td>1.01</td>\n",
       "      <td>0.933333</td>\n",
       "      <td>0.603333</td>\n",
       "      <td>0.686667</td>\n",
       "      <td>0.673333</td>\n",
       "      <td>-245.75</td>\n",
       "      <td>0.256</td>\n",
       "      <td>-0.06</td>\n",
       "      <td>-0.70</td>\n",
       "      <td>-0.13</td>\n",
       "    </tr>\n",
       "    <tr>\n",
       "      <th>1</th>\n",
       "      <td>0.473333</td>\n",
       "      <td>1.206667</td>\n",
       "      <td>0.883333</td>\n",
       "      <td>1.430000</td>\n",
       "      <td>0.726667</td>\n",
       "      <td>0.626667</td>\n",
       "      <td>0.81</td>\n",
       "      <td>0.783333</td>\n",
       "      <td>0.190000</td>\n",
       "      <td>0.47</td>\n",
       "      <td>...</td>\n",
       "      <td>0.69</td>\n",
       "      <td>0.560000</td>\n",
       "      <td>0.670000</td>\n",
       "      <td>0.553333</td>\n",
       "      <td>0.653333</td>\n",
       "      <td>-248.00</td>\n",
       "      <td>-0.250</td>\n",
       "      <td>0.52</td>\n",
       "      <td>0.14</td>\n",
       "      <td>0.66</td>\n",
       "    </tr>\n",
       "  </tbody>\n",
       "</table>\n",
       "<p>2 rows × 29 columns</p>\n",
       "</div>"
      ],
      "text/plain": [
       "       Per1      Per2      Per3      Per4      Per5      Per6  Per7      Per8  \\\n",
       "0  1.070000  0.580000  0.480000  0.766667  1.233333  1.993333  0.34  1.010000   \n",
       "1  0.473333  1.206667  0.883333  1.430000  0.726667  0.626667  0.81  0.783333   \n",
       "\n",
       "       Per9  Dem1  ...  Cred2     Cred3     Cred4     Cred5     Cred6  \\\n",
       "0  0.863333  0.46  ...   1.01  0.933333  0.603333  0.686667  0.673333   \n",
       "1  0.190000  0.47  ...   0.69  0.560000  0.670000  0.553333  0.653333   \n",
       "\n",
       "   Normalised_FNT  geo_score  instance_scores  qsets_normalized_tat  lambda_wt  \n",
       "0         -245.75      0.256            -0.06                 -0.70      -0.13  \n",
       "1         -248.00     -0.250             0.52                  0.14       0.66  \n",
       "\n",
       "[2 rows x 29 columns]"
      ]
     },
     "execution_count": 204,
     "metadata": {},
     "output_type": "execute_result"
    }
   ],
   "source": [
    "# Checking the Independent variable of train_data\n",
    "\n",
    "X.head(2)"
   ]
  },
  {
   "cell_type": "code",
   "execution_count": null,
   "id": "b761148f",
   "metadata": {},
   "outputs": [
    {
     "data": {
      "text/plain": [
       "Index(['Per1', 'Per2', 'Per3', 'Per4', 'Per5', 'Per6', 'Per7', 'Per8', 'Per9',\n",
       "       'Dem1', 'Dem2', 'Dem3', 'Dem4', 'Dem5', 'Dem6', 'Dem7', 'Dem8', 'Dem9',\n",
       "       'Cred1', 'Cred2', 'Cred3', 'Cred4', 'Cred5', 'Cred6', 'Normalised_FNT',\n",
       "       'geo_score', 'instance_scores', 'qsets_normalized_tat', 'lambda_wt'],\n",
       "      dtype='object')"
      ]
     },
     "execution_count": 205,
     "metadata": {},
     "output_type": "execute_result"
    }
   ],
   "source": [
    "# Checking the columns of independent variables of train_data\n",
    "\n",
    "X.columns"
   ]
  },
  {
   "cell_type": "code",
   "execution_count": null,
   "id": "4a5e231a",
   "metadata": {},
   "outputs": [
    {
     "data": {
      "text/plain": [
       "0    0.0\n",
       "1    0.0\n",
       "2    0.0\n",
       "3    0.0\n",
       "4    0.0\n",
       "Name: Target, dtype: float64"
      ]
     },
     "execution_count": 207,
     "metadata": {},
     "output_type": "execute_result"
    }
   ],
   "source": [
    "# Checking the dependent variables of train_data\n",
    "\n",
    "y.head()"
   ]
  },
  {
   "cell_type": "code",
   "execution_count": null,
   "id": "0b1090eb",
   "metadata": {},
   "outputs": [
    {
     "data": {
      "text/plain": [
       "Index(['id', 'Group', 'Per1', 'Per2', 'Per3', 'Per4', 'Per5', 'Per6', 'Per7',\n",
       "       'Per8', 'Per9', 'Dem1', 'Dem2', 'Dem3', 'Dem4', 'Dem5', 'Dem6', 'Dem7',\n",
       "       'Dem8', 'Dem9', 'Cred1', 'Cred2', 'Cred3', 'Cred4', 'Cred5', 'Cred6',\n",
       "       'Normalised_FNT', 'Target', 'data', 'geo_score', 'instance_scores',\n",
       "       'qsets_normalized_tat', 'lambda_wt'],\n",
       "      dtype='object')"
      ]
     },
     "execution_count": 208,
     "metadata": {},
     "output_type": "execute_result"
    }
   ],
   "source": [
    "# Checking the columns of the test_data\n",
    "\n",
    "test_data.columns\n",
    "\n",
    "# Outcome:\n",
    "# 'Target' column is not required as it does not contain any value \n",
    "# 'data' column is not required anymore\n",
    "# 'id' and 'Group' columns are un-neccesary"
   ]
  },
  {
   "cell_type": "code",
   "execution_count": null,
   "id": "1ad4d78a",
   "metadata": {},
   "outputs": [],
   "source": [
    "# Removing all the unnecessary columns from test_data\n",
    "\n",
    "test_data = test_data.drop(['id', 'Group', 'Target', 'data'], axis = 1)\n"
   ]
  },
  {
   "cell_type": "code",
   "execution_count": 211,
   "id": "9c138160",
   "metadata": {},
   "outputs": [
    {
     "data": {
      "text/html": [
       "<div>\n",
       "<style scoped>\n",
       "    .dataframe tbody tr th:only-of-type {\n",
       "        vertical-align: middle;\n",
       "    }\n",
       "\n",
       "    .dataframe tbody tr th {\n",
       "        vertical-align: top;\n",
       "    }\n",
       "\n",
       "    .dataframe thead th {\n",
       "        text-align: right;\n",
       "    }\n",
       "</style>\n",
       "<table border=\"1\" class=\"dataframe\">\n",
       "  <thead>\n",
       "    <tr style=\"text-align: right;\">\n",
       "      <th></th>\n",
       "      <th>Per1</th>\n",
       "      <th>Per2</th>\n",
       "      <th>Per3</th>\n",
       "      <th>Per4</th>\n",
       "      <th>Per5</th>\n",
       "      <th>Per6</th>\n",
       "      <th>Per7</th>\n",
       "      <th>Per8</th>\n",
       "      <th>Per9</th>\n",
       "      <th>Dem1</th>\n",
       "      <th>...</th>\n",
       "      <th>Cred2</th>\n",
       "      <th>Cred3</th>\n",
       "      <th>Cred4</th>\n",
       "      <th>Cred5</th>\n",
       "      <th>Cred6</th>\n",
       "      <th>Normalised_FNT</th>\n",
       "      <th>geo_score</th>\n",
       "      <th>instance_scores</th>\n",
       "      <th>qsets_normalized_tat</th>\n",
       "      <th>lambda_wt</th>\n",
       "    </tr>\n",
       "  </thead>\n",
       "  <tbody>\n",
       "    <tr>\n",
       "      <th>227845</th>\n",
       "      <td>-0.300000</td>\n",
       "      <td>1.540000</td>\n",
       "      <td>0.22</td>\n",
       "      <td>-0.280000</td>\n",
       "      <td>0.57</td>\n",
       "      <td>0.260000</td>\n",
       "      <td>0.70</td>\n",
       "      <td>1.076667</td>\n",
       "      <td>0.930000</td>\n",
       "      <td>0.156667</td>\n",
       "      <td>...</td>\n",
       "      <td>0.813333</td>\n",
       "      <td>0.776667</td>\n",
       "      <td>0.796667</td>\n",
       "      <td>0.823333</td>\n",
       "      <td>0.783333</td>\n",
       "      <td>-249.7500</td>\n",
       "      <td>0.25</td>\n",
       "      <td>-0.04</td>\n",
       "      <td>-0.426</td>\n",
       "      <td>0.76</td>\n",
       "    </tr>\n",
       "    <tr>\n",
       "      <th>227846</th>\n",
       "      <td>0.633333</td>\n",
       "      <td>0.953333</td>\n",
       "      <td>0.81</td>\n",
       "      <td>0.466667</td>\n",
       "      <td>0.91</td>\n",
       "      <td>0.253333</td>\n",
       "      <td>1.04</td>\n",
       "      <td>0.550000</td>\n",
       "      <td>0.543333</td>\n",
       "      <td>0.433333</td>\n",
       "      <td>...</td>\n",
       "      <td>0.703333</td>\n",
       "      <td>0.806667</td>\n",
       "      <td>0.630000</td>\n",
       "      <td>0.673333</td>\n",
       "      <td>0.673333</td>\n",
       "      <td>-249.8125</td>\n",
       "      <td>0.43</td>\n",
       "      <td>-0.77</td>\n",
       "      <td>-0.620</td>\n",
       "      <td>0.18</td>\n",
       "    </tr>\n",
       "  </tbody>\n",
       "</table>\n",
       "<p>2 rows × 29 columns</p>\n",
       "</div>"
      ],
      "text/plain": [
       "            Per1      Per2  Per3      Per4  Per5      Per6  Per7      Per8  \\\n",
       "227845 -0.300000  1.540000  0.22 -0.280000  0.57  0.260000  0.70  1.076667   \n",
       "227846  0.633333  0.953333  0.81  0.466667  0.91  0.253333  1.04  0.550000   \n",
       "\n",
       "            Per9      Dem1  ...     Cred2     Cred3     Cred4     Cred5  \\\n",
       "227845  0.930000  0.156667  ...  0.813333  0.776667  0.796667  0.823333   \n",
       "227846  0.543333  0.433333  ...  0.703333  0.806667  0.630000  0.673333   \n",
       "\n",
       "           Cred6  Normalised_FNT  geo_score  instance_scores  \\\n",
       "227845  0.783333       -249.7500       0.25            -0.04   \n",
       "227846  0.673333       -249.8125       0.43            -0.77   \n",
       "\n",
       "        qsets_normalized_tat  lambda_wt  \n",
       "227845                -0.426       0.76  \n",
       "227846                -0.620       0.18  \n",
       "\n",
       "[2 rows x 29 columns]"
      ]
     },
     "execution_count": 211,
     "metadata": {},
     "output_type": "execute_result"
    }
   ],
   "source": [
    "# Checking the df\n",
    "# This data is for prediction.\n",
    "\n",
    "test_data.head(2)"
   ]
  },
  {
   "cell_type": "code",
   "execution_count": 272,
   "id": "f30cd145",
   "metadata": {},
   "outputs": [],
   "source": [
    "# Saving the testing data in the system \n",
    "\n",
    "test_data.to_csv(r\"C:\\Users\\user\\Desktop\\Git Projects\\Banking-Domain\\data\\processed\\test\")"
   ]
  },
  {
   "cell_type": "markdown",
   "id": "8e8f5036",
   "metadata": {},
   "source": [
    "# ****Actual Data****"
   ]
  },
  {
   "cell_type": "code",
   "execution_count": 212,
   "id": "84741b87",
   "metadata": {},
   "outputs": [
    {
     "data": {
      "text/html": [
       "<div>\n",
       "<style scoped>\n",
       "    .dataframe tbody tr th:only-of-type {\n",
       "        vertical-align: middle;\n",
       "    }\n",
       "\n",
       "    .dataframe tbody tr th {\n",
       "        vertical-align: top;\n",
       "    }\n",
       "\n",
       "    .dataframe thead th {\n",
       "        text-align: right;\n",
       "    }\n",
       "</style>\n",
       "<table border=\"1\" class=\"dataframe\">\n",
       "  <thead>\n",
       "    <tr style=\"text-align: right;\">\n",
       "      <th></th>\n",
       "      <th>Per1</th>\n",
       "      <th>Per2</th>\n",
       "      <th>Per3</th>\n",
       "      <th>Per4</th>\n",
       "      <th>Per5</th>\n",
       "      <th>Per6</th>\n",
       "      <th>Per7</th>\n",
       "      <th>Per8</th>\n",
       "      <th>Per9</th>\n",
       "      <th>Dem1</th>\n",
       "      <th>...</th>\n",
       "      <th>Cred2</th>\n",
       "      <th>Cred3</th>\n",
       "      <th>Cred4</th>\n",
       "      <th>Cred5</th>\n",
       "      <th>Cred6</th>\n",
       "      <th>Normalised_FNT</th>\n",
       "      <th>geo_score</th>\n",
       "      <th>instance_scores</th>\n",
       "      <th>qsets_normalized_tat</th>\n",
       "      <th>lambda_wt</th>\n",
       "    </tr>\n",
       "  </thead>\n",
       "  <tbody>\n",
       "    <tr>\n",
       "      <th>0</th>\n",
       "      <td>1.070000</td>\n",
       "      <td>0.580000</td>\n",
       "      <td>0.480000</td>\n",
       "      <td>0.766667</td>\n",
       "      <td>1.233333</td>\n",
       "      <td>1.993333</td>\n",
       "      <td>0.340000</td>\n",
       "      <td>1.010000</td>\n",
       "      <td>0.863333</td>\n",
       "      <td>0.460000</td>\n",
       "      <td>...</td>\n",
       "      <td>1.010000</td>\n",
       "      <td>0.933333</td>\n",
       "      <td>0.603333</td>\n",
       "      <td>0.686667</td>\n",
       "      <td>0.673333</td>\n",
       "      <td>-245.7500</td>\n",
       "      <td>0.256</td>\n",
       "      <td>-0.06</td>\n",
       "      <td>-0.700</td>\n",
       "      <td>-0.13</td>\n",
       "    </tr>\n",
       "    <tr>\n",
       "      <th>1</th>\n",
       "      <td>0.473333</td>\n",
       "      <td>1.206667</td>\n",
       "      <td>0.883333</td>\n",
       "      <td>1.430000</td>\n",
       "      <td>0.726667</td>\n",
       "      <td>0.626667</td>\n",
       "      <td>0.810000</td>\n",
       "      <td>0.783333</td>\n",
       "      <td>0.190000</td>\n",
       "      <td>0.470000</td>\n",
       "      <td>...</td>\n",
       "      <td>0.690000</td>\n",
       "      <td>0.560000</td>\n",
       "      <td>0.670000</td>\n",
       "      <td>0.553333</td>\n",
       "      <td>0.653333</td>\n",
       "      <td>-248.0000</td>\n",
       "      <td>-0.250</td>\n",
       "      <td>0.52</td>\n",
       "      <td>0.140</td>\n",
       "      <td>0.66</td>\n",
       "    </tr>\n",
       "    <tr>\n",
       "      <th>2</th>\n",
       "      <td>1.130000</td>\n",
       "      <td>0.143333</td>\n",
       "      <td>0.946667</td>\n",
       "      <td>0.123333</td>\n",
       "      <td>0.080000</td>\n",
       "      <td>0.836667</td>\n",
       "      <td>0.056667</td>\n",
       "      <td>0.756667</td>\n",
       "      <td>0.226667</td>\n",
       "      <td>0.660000</td>\n",
       "      <td>...</td>\n",
       "      <td>0.383333</td>\n",
       "      <td>0.763333</td>\n",
       "      <td>0.670000</td>\n",
       "      <td>0.686667</td>\n",
       "      <td>0.673333</td>\n",
       "      <td>-233.1250</td>\n",
       "      <td>-0.950</td>\n",
       "      <td>1.56</td>\n",
       "      <td>-0.430</td>\n",
       "      <td>-0.51</td>\n",
       "    </tr>\n",
       "    <tr>\n",
       "      <th>3</th>\n",
       "      <td>0.636667</td>\n",
       "      <td>1.090000</td>\n",
       "      <td>0.750000</td>\n",
       "      <td>0.940000</td>\n",
       "      <td>0.743333</td>\n",
       "      <td>0.346667</td>\n",
       "      <td>0.956667</td>\n",
       "      <td>0.633333</td>\n",
       "      <td>0.486667</td>\n",
       "      <td>1.096667</td>\n",
       "      <td>...</td>\n",
       "      <td>0.846667</td>\n",
       "      <td>0.423333</td>\n",
       "      <td>0.520000</td>\n",
       "      <td>0.846667</td>\n",
       "      <td>0.760000</td>\n",
       "      <td>-249.7775</td>\n",
       "      <td>0.490</td>\n",
       "      <td>0.70</td>\n",
       "      <td>-0.302</td>\n",
       "      <td>0.72</td>\n",
       "    </tr>\n",
       "    <tr>\n",
       "      <th>4</th>\n",
       "      <td>0.560000</td>\n",
       "      <td>1.013333</td>\n",
       "      <td>0.593333</td>\n",
       "      <td>0.416667</td>\n",
       "      <td>0.773333</td>\n",
       "      <td>0.460000</td>\n",
       "      <td>0.853333</td>\n",
       "      <td>0.796667</td>\n",
       "      <td>0.516667</td>\n",
       "      <td>0.756667</td>\n",
       "      <td>...</td>\n",
       "      <td>0.526667</td>\n",
       "      <td>0.520000</td>\n",
       "      <td>0.716667</td>\n",
       "      <td>0.706667</td>\n",
       "      <td>0.673333</td>\n",
       "      <td>-247.5775</td>\n",
       "      <td>0.850</td>\n",
       "      <td>-0.47</td>\n",
       "      <td>-0.630</td>\n",
       "      <td>0.60</td>\n",
       "    </tr>\n",
       "  </tbody>\n",
       "</table>\n",
       "<p>5 rows × 29 columns</p>\n",
       "</div>"
      ],
      "text/plain": [
       "       Per1      Per2      Per3      Per4      Per5      Per6      Per7  \\\n",
       "0  1.070000  0.580000  0.480000  0.766667  1.233333  1.993333  0.340000   \n",
       "1  0.473333  1.206667  0.883333  1.430000  0.726667  0.626667  0.810000   \n",
       "2  1.130000  0.143333  0.946667  0.123333  0.080000  0.836667  0.056667   \n",
       "3  0.636667  1.090000  0.750000  0.940000  0.743333  0.346667  0.956667   \n",
       "4  0.560000  1.013333  0.593333  0.416667  0.773333  0.460000  0.853333   \n",
       "\n",
       "       Per8      Per9      Dem1  ...     Cred2     Cred3     Cred4     Cred5  \\\n",
       "0  1.010000  0.863333  0.460000  ...  1.010000  0.933333  0.603333  0.686667   \n",
       "1  0.783333  0.190000  0.470000  ...  0.690000  0.560000  0.670000  0.553333   \n",
       "2  0.756667  0.226667  0.660000  ...  0.383333  0.763333  0.670000  0.686667   \n",
       "3  0.633333  0.486667  1.096667  ...  0.846667  0.423333  0.520000  0.846667   \n",
       "4  0.796667  0.516667  0.756667  ...  0.526667  0.520000  0.716667  0.706667   \n",
       "\n",
       "      Cred6  Normalised_FNT  geo_score  instance_scores  qsets_normalized_tat  \\\n",
       "0  0.673333       -245.7500      0.256            -0.06                -0.700   \n",
       "1  0.653333       -248.0000     -0.250             0.52                 0.140   \n",
       "2  0.673333       -233.1250     -0.950             1.56                -0.430   \n",
       "3  0.760000       -249.7775      0.490             0.70                -0.302   \n",
       "4  0.673333       -247.5775      0.850            -0.47                -0.630   \n",
       "\n",
       "   lambda_wt  \n",
       "0      -0.13  \n",
       "1       0.66  \n",
       "2      -0.51  \n",
       "3       0.72  \n",
       "4       0.60  \n",
       "\n",
       "[5 rows x 29 columns]"
      ]
     },
     "execution_count": 212,
     "metadata": {},
     "output_type": "execute_result"
    }
   ],
   "source": [
    "X.head()"
   ]
  },
  {
   "cell_type": "code",
   "execution_count": null,
   "id": "b8a8532f",
   "metadata": {},
   "outputs": [
    {
     "data": {
      "text/plain": [
       "Per1                    False\n",
       "Per2                    False\n",
       "Per3                    False\n",
       "Per4                    False\n",
       "Per5                    False\n",
       "Per6                    False\n",
       "Per7                    False\n",
       "Per8                    False\n",
       "Per9                    False\n",
       "Dem1                    False\n",
       "Dem2                    False\n",
       "Dem3                    False\n",
       "Dem4                    False\n",
       "Dem5                    False\n",
       "Dem6                    False\n",
       "Dem7                    False\n",
       "Dem8                    False\n",
       "Dem9                    False\n",
       "Cred1                   False\n",
       "Cred2                   False\n",
       "Cred3                   False\n",
       "Cred4                   False\n",
       "Cred5                   False\n",
       "Cred6                   False\n",
       "Normalised_FNT          False\n",
       "geo_score               False\n",
       "instance_scores         False\n",
       "qsets_normalized_tat    False\n",
       "lambda_wt               False\n",
       "dtype: bool"
      ]
     },
     "execution_count": 213,
     "metadata": {},
     "output_type": "execute_result"
    }
   ],
   "source": [
    "# Checking the null values\n",
    "\n",
    "X.isnull().any()\n",
    "\n",
    "# Outcome:\n",
    "# No null values "
   ]
  },
  {
   "cell_type": "code",
   "execution_count": 290,
   "id": "531a1bf1",
   "metadata": {},
   "outputs": [],
   "source": [
    "# Checking the outliers \n",
    "\n",
    "def boxplots(df, col):\n",
    "    sns.boxplot(df[col])\n",
    "    save_fig(col)\n",
    "    plt.show()\n",
    "\n",
    "\n",
    "# saving the function in get_boxplots.py file "
   ]
  },
  {
   "cell_type": "code",
   "execution_count": 289,
   "id": "ab529852",
   "metadata": {},
   "outputs": [],
   "source": [
    "# Creating a function to save images created in this notebook.\n",
    "\n",
    "from pathlib import Path\n",
    "\n",
    "IMAGES_PATH = Path().cwd().parent/\"images\"\n",
    "IMAGES_PATH.mkdir(parents=True, exist_ok=True)\n",
    "\n",
    "def save_fig(fig_id, tight_layout=True, fig_extension=\"png\", resolution=300):\n",
    "    path = IMAGES_PATH / f\"{fig_id}.{fig_extension}\"\n",
    "    if tight_layout:\n",
    "        plt.tight_layout()\n",
    "    plt.savefig(path, format=fig_extension, dpi=resolution)\n",
    "\n",
    "\n",
    "# Saving the function as save_images.py"
   ]
  },
  {
   "cell_type": "code",
   "execution_count": null,
   "id": "7b174a09",
   "metadata": {},
   "outputs": [
    {
     "data": {
      "image/png": "[encoded data removed]",
      "text/plain": [
       "<Figure size 640x480 with 1 Axes>"
      ]
     },
     "metadata": {},
     "output_type": "display_data"
    },
    {
     "data": {
      "image/png": "[encoded data removed]",
      "text/plain": [
       "<Figure size 640x480 with 1 Axes>"
      ]
     },
     "metadata": {},
     "output_type": "display_data"
    },
    {
     "data": {
      "image/png": "[encoded data removed]",
      "text/plain": [
       "<Figure size 640x480 with 1 Axes>"
      ]
     },
     "metadata": {},
     "output_type": "display_data"
    },
    {
     "data": {
      "image/png": "[encoded data removed]",
      "text/plain": [
       "<Figure size 640x480 with 1 Axes>"
      ]
     },
     "metadata": {},
     "output_type": "display_data"
    },
    {
     "data": {
      "image/png": "[encoded data removed]",
      "text/plain": [
       "<Figure size 640x480 with 1 Axes>"
      ]
     },
     "metadata": {},
     "output_type": "display_data"
    },
    {
     "data": {
      "image/png": "[encoded data removed]",
      "text/plain": [
       "<Figure size 640x480 with 1 Axes>"
      ]
     },
     "metadata": {},
     "output_type": "display_data"
    },
    {
     "data": {
      "image/png": "[encoded data removed]",
      "text/plain": [
       "<Figure size 640x480 with 1 Axes>"
      ]
     },
     "metadata": {},
     "output_type": "display_data"
    },
    {
     "data": {
      "image/png": "[encoded data removed]",
      "text/plain": [
       "<Figure size 640x480 with 1 Axes>"
      ]
     },
     "metadata": {},
     "output_type": "display_data"
    },
    {
     "data": {
      "image/png": "[encoded data removed]",
      "text/plain": [
       "<Figure size 640x480 with 1 Axes>"
      ]
     },
     "metadata": {},
     "output_type": "display_data"
    },
    {
     "data": {
      "image/png": "[encoded data removed]",
      "text/plain": [
       "<Figure size 640x480 with 1 Axes>"
      ]
     },
     "metadata": {},
     "output_type": "display_data"
    },
    {
     "data": {
      "image/png": "[encoded data removed]",
      "text/plain": [
       "<Figure size 640x480 with 1 Axes>"
      ]
     },
     "metadata": {},
     "output_type": "display_data"
    },
    {
     "data": {
      "image/png": "[encoded data removed]",
      "text/plain": [
       "<Figure size 640x480 with 1 Axes>"
      ]
     },
     "metadata": {},
     "output_type": "display_data"
    },
    {
     "data": {
      "image/png": "[encoded data removed]",
      "text/plain": [
       "<Figure size 640x480 with 1 Axes>"
      ]
     },
     "metadata": {},
     "output_type": "display_data"
    },
    {
     "data": {
      "image/png": "[encoded data removed]",
      "text/plain": [
       "<Figure size 640x480 with 1 Axes>"
      ]
     },
     "metadata": {},
     "output_type": "display_data"
    },
    {
     "data": {
      "image/png": "[encoded data removed]",
      "text/plain": [
       "<Figure size 640x480 with 1 Axes>"
      ]
     },
     "metadata": {},
     "output_type": "display_data"
    },
    {
     "data": {
      "image/png": "[encoded data removed]",
      "text/plain": [
       "<Figure size 640x480 with 1 Axes>"
      ]
     },
     "metadata": {},
     "output_type": "display_data"
    },
    {
     "data": {
      "image/png": "[encoded data removed]",
      "text/plain": [
       "<Figure size 640x480 with 1 Axes>"
      ]
     },
     "metadata": {},
     "output_type": "display_data"
    },
    {
     "data": {
      "image/png": "[encoded data removed]",
      "text/plain": [
       "<Figure size 640x480 with 1 Axes>"
      ]
     },
     "metadata": {},
     "output_type": "display_data"
    },
    {
     "data": {
      "image/png": "[encoded data removed]",
      "text/plain": [
       "<Figure size 640x480 with 1 Axes>"
      ]
     },
     "metadata": {},
     "output_type": "display_data"
    },
    {
     "data": {
      "image/png": "[encoded data removed]",
      "text/plain": [
       "<Figure size 640x480 with 1 Axes>"
      ]
     },
     "metadata": {},
     "output_type": "display_data"
    },
    {
     "data": {
      "image/png": "[encoded data removed]",
      "text/plain": [
       "<Figure size 640x480 with 1 Axes>"
      ]
     },
     "metadata": {},
     "output_type": "display_data"
    },
    {
     "data": {
      "image/png": "[encoded data removed]",
      "text/plain": [
       "<Figure size 640x480 with 1 Axes>"
      ]
     },
     "metadata": {},
     "output_type": "display_data"
    },
    {
     "data": {
      "image/png": "[encoded data removed]",
      "text/plain": [
       "<Figure size 640x480 with 1 Axes>"
      ]
     },
     "metadata": {},
     "output_type": "display_data"
    },
    {
     "data": {
      "image/png": "[encoded data removed]",
      "text/plain": [
       "<Figure size 640x480 with 1 Axes>"
      ]
     },
     "metadata": {},
     "output_type": "display_data"
    },
    {
     "data": {
      "image/png": "[encoded data removed]",
      "text/plain": [
       "<Figure size 640x480 with 1 Axes>"
      ]
     },
     "metadata": {},
     "output_type": "display_data"
    },
    {
     "data": {
      "image/png": "[encoded data removed]",
      "text/plain": [
       "<Figure size 640x480 with 1 Axes>"
      ]
     },
     "metadata": {},
     "output_type": "display_data"
    },
    {
     "data": {
      "image/png": "[encoded data removed]",
      "text/plain": [
       "<Figure size 640x480 with 1 Axes>"
      ]
     },
     "metadata": {},
     "output_type": "display_data"
    },
    {
     "data": {
      "image/png": "[encoded data removed]",
      "text/plain": [
       "<Figure size 640x480 with 1 Axes>"
      ]
     },
     "metadata": {},
     "output_type": "display_data"
    },
    {
     "data": {
      "image/png": "[encoded data removed]",
      "text/plain": [
       "<Figure size 640x480 with 1 Axes>"
      ]
     },
     "metadata": {},
     "output_type": "display_data"
    }
   ],
   "source": [
    "# Getting box_plots and saving the corresponding boxplots as images with corresponding column name\n",
    "\n",
    "for i in list(X.select_dtypes(exclude = ['object']).columns):\n",
    "    boxplots(X, i) \n",
    "\n",
    "# Outcome:\n",
    "# Outliers are there\n",
    "# I am not treating the outlier since the range is very low"
   ]
  },
  {
   "cell_type": "markdown",
   "id": "e97a781e",
   "metadata": {},
   "source": [
    "## In case of treating outliers "
   ]
  },
  {
   "cell_type": "code",
   "execution_count": null,
   "id": "1825505c",
   "metadata": {},
   "outputs": [],
   "source": [
    "# Outlier Treatment\n",
    "\n",
    "def check_outlier(col):\n",
    "    '''This function gives lower limit and upper limit of a Pandas Series'''\n",
    "    Q1, Q3 = col.quantile([.25, .75])\n",
    "    IQR = Q3 - Q1\n",
    "    lower_range = Q1 - 1.5 * IQR\n",
    "    upper_range = Q3 + 1.5 * IQR\n",
    "    return lower_range, upper_range\n",
    "\n",
    "\n",
    "# Use this funtion to get the lower limit and upper limit of each column\n",
    "# Saving this function as get_outliers.py"
   ]
  },
  {
   "cell_type": "code",
   "execution_count": null,
   "id": "b72ea7da",
   "metadata": {},
   "outputs": [
    {
     "data": {
      "text/plain": [
       "(-1.8099999999999998, 1.8699999999999999)"
      ]
     },
     "execution_count": 269,
     "metadata": {},
     "output_type": "execute_result"
    }
   ],
   "source": [
    "# Checking the limits of 'lambda_wt' column\n",
    "\n",
    "check_outlier(X['lambda_wt'])"
   ]
  },
  {
   "cell_type": "markdown",
   "id": "5099621a",
   "metadata": {},
   "source": [
    "### Capping the outliers - One of the approches to treat the outliers"
   ]
  },
  {
   "cell_type": "code",
   "execution_count": 283,
   "id": "fff94727",
   "metadata": {},
   "outputs": [
    {
     "data": {
      "text/plain": [
       "\"# Getting the percentiles and capping the values\\n# Capping means that if a value is greater than or lower than some value, it'll cap it to the given capping value\\n\\ndef treat_outlier(x):\\n    # taking 5, 25, 75, 95\\n    q5 = np.percentile(x, 5)\\n    q25 = np.percentile(x, 25)\\n    q75 = np.percentile(x, 75)\\n    q95 = np.percentile(x, 95)\\n    # calculating IQR\\n    IQR = q75 - q25\\n    # calculating minimum threshold \\n    lower_bound = q25 - 1.5 * IQR\\n    upper_bound = q75 + 1.5 * IQR\\n    print(q5, q25, q75, q95)\\n    # apply capping method\\n    return x.apply(lambda y: q95 if y > upper_bound else y).apply(lambda y: q5 if y < lower_bound else y)\\n\\n# Saving this function as treat_outlier.py\""
      ]
     },
     "execution_count": 283,
     "metadata": {},
     "output_type": "execute_result"
    }
   ],
   "source": [
    "'''# Getting the percentiles and capping the values\n",
    "# Capping means that if a value is greater than or lower than some value, it'll cap it to the given capping value\n",
    "\n",
    "def treat_outlier(x):\n",
    "    # taking 5, 25, 75, 95\n",
    "    q5 = np.percentile(x, 5)\n",
    "    q25 = np.percentile(x, 25)\n",
    "    q75 = np.percentile(x, 75)\n",
    "    q95 = np.percentile(x, 95)\n",
    "    # calculating IQR\n",
    "    IQR = q75 - q25\n",
    "    # calculating minimum threshold \n",
    "    lower_bound = q25 - 1.5 * IQR\n",
    "    upper_bound = q75 + 1.5 * IQR\n",
    "    print(q5, q25, q75, q95)\n",
    "    # apply capping method\n",
    "    return x.apply(lambda y: q95 if y > upper_bound else y).apply(lambda y: q5 if y < lower_bound else y)\n",
    "\n",
    "# Saving this function as treat_outlier.py'''\n"
   ]
  },
  {
   "cell_type": "code",
   "execution_count": 284,
   "id": "259ee830",
   "metadata": {},
   "outputs": [
    {
     "data": {
      "text/plain": [
       "'# Use this code to cap outliers\\nfor i in X:\\n    X[i] = treat_outlier(X[i])\\n\\n# I am not going to cap the  outliers and treat the values as it is.\\n# Hence commenting out the function and this code'"
      ]
     },
     "execution_count": 284,
     "metadata": {},
     "output_type": "execute_result"
    }
   ],
   "source": [
    "'''# Use this code to cap outliers\n",
    "for i in X:\n",
    "    X[i] = treat_outlier(X[i])\n",
    "\n",
    "# I am not going to cap the  outliers and treat the values as it is.\n",
    "# Hence commenting out the function and this code'''"
   ]
  },
  {
   "cell_type": "code",
   "execution_count": null,
   "id": "081ec1b1",
   "metadata": {},
   "outputs": [
    {
     "data": {
      "text/html": [
       "<div>\n",
       "<style scoped>\n",
       "    .dataframe tbody tr th:only-of-type {\n",
       "        vertical-align: middle;\n",
       "    }\n",
       "\n",
       "    .dataframe tbody tr th {\n",
       "        vertical-align: top;\n",
       "    }\n",
       "\n",
       "    .dataframe thead th {\n",
       "        text-align: right;\n",
       "    }\n",
       "</style>\n",
       "<table border=\"1\" class=\"dataframe\">\n",
       "  <thead>\n",
       "    <tr style=\"text-align: right;\">\n",
       "      <th></th>\n",
       "      <th>Per1</th>\n",
       "      <th>Per2</th>\n",
       "      <th>Per3</th>\n",
       "      <th>Per4</th>\n",
       "      <th>Per5</th>\n",
       "      <th>Per6</th>\n",
       "      <th>Per7</th>\n",
       "      <th>Per8</th>\n",
       "      <th>Per9</th>\n",
       "      <th>Dem1</th>\n",
       "      <th>...</th>\n",
       "      <th>Cred2</th>\n",
       "      <th>Cred3</th>\n",
       "      <th>Cred4</th>\n",
       "      <th>Cred5</th>\n",
       "      <th>Cred6</th>\n",
       "      <th>Normalised_FNT</th>\n",
       "      <th>geo_score</th>\n",
       "      <th>instance_scores</th>\n",
       "      <th>qsets_normalized_tat</th>\n",
       "      <th>lambda_wt</th>\n",
       "    </tr>\n",
       "  </thead>\n",
       "  <tbody>\n",
       "    <tr>\n",
       "      <th>count</th>\n",
       "      <td>227845.000000</td>\n",
       "      <td>227845.000000</td>\n",
       "      <td>227845.000000</td>\n",
       "      <td>227845.000000</td>\n",
       "      <td>227845.000000</td>\n",
       "      <td>227845.000000</td>\n",
       "      <td>227845.000000</td>\n",
       "      <td>227845.000000</td>\n",
       "      <td>227845.000000</td>\n",
       "      <td>227845.000000</td>\n",
       "      <td>...</td>\n",
       "      <td>227845.000000</td>\n",
       "      <td>227845.000000</td>\n",
       "      <td>227845.000000</td>\n",
       "      <td>227845.000000</td>\n",
       "      <td>227845.000000</td>\n",
       "      <td>227845.000000</td>\n",
       "      <td>227845.000000</td>\n",
       "      <td>227845.000000</td>\n",
       "      <td>227845.000000</td>\n",
       "      <td>227845.000000</td>\n",
       "    </tr>\n",
       "    <tr>\n",
       "      <th>mean</th>\n",
       "      <td>0.666006</td>\n",
       "      <td>0.667701</td>\n",
       "      <td>0.666315</td>\n",
       "      <td>0.666687</td>\n",
       "      <td>0.666723</td>\n",
       "      <td>0.667378</td>\n",
       "      <td>0.666934</td>\n",
       "      <td>0.666279</td>\n",
       "      <td>0.666688</td>\n",
       "      <td>0.666576</td>\n",
       "      <td>...</td>\n",
       "      <td>0.666264</td>\n",
       "      <td>0.666755</td>\n",
       "      <td>0.666878</td>\n",
       "      <td>0.666566</td>\n",
       "      <td>0.666776</td>\n",
       "      <td>-227.954170</td>\n",
       "      <td>0.008908</td>\n",
       "      <td>-0.000123</td>\n",
       "      <td>0.001346</td>\n",
       "      <td>0.000350</td>\n",
       "    </tr>\n",
       "    <tr>\n",
       "      <th>std</th>\n",
       "      <td>0.654133</td>\n",
       "      <td>0.548305</td>\n",
       "      <td>0.506357</td>\n",
       "      <td>0.471956</td>\n",
       "      <td>0.461393</td>\n",
       "      <td>0.444573</td>\n",
       "      <td>0.415657</td>\n",
       "      <td>0.401546</td>\n",
       "      <td>0.366537</td>\n",
       "      <td>0.340436</td>\n",
       "      <td>...</td>\n",
       "      <td>0.202204</td>\n",
       "      <td>0.174204</td>\n",
       "      <td>0.160803</td>\n",
       "      <td>0.135762</td>\n",
       "      <td>0.111612</td>\n",
       "      <td>61.951661</td>\n",
       "      <td>0.997629</td>\n",
       "      <td>1.091488</td>\n",
       "      <td>0.850169</td>\n",
       "      <td>0.957957</td>\n",
       "    </tr>\n",
       "    <tr>\n",
       "      <th>min</th>\n",
       "      <td>-18.136667</td>\n",
       "      <td>-23.573333</td>\n",
       "      <td>-15.443333</td>\n",
       "      <td>-1.226667</td>\n",
       "      <td>-37.246667</td>\n",
       "      <td>-8.053333</td>\n",
       "      <td>-13.853333</td>\n",
       "      <td>-23.740000</td>\n",
       "      <td>-3.810000</td>\n",
       "      <td>-0.893333</td>\n",
       "      <td>...</td>\n",
       "      <td>-0.280000</td>\n",
       "      <td>-2.766667</td>\n",
       "      <td>-0.080000</td>\n",
       "      <td>-6.856667</td>\n",
       "      <td>-4.476667</td>\n",
       "      <td>-250.000000</td>\n",
       "      <td>-18.680000</td>\n",
       "      <td>-24.590000</td>\n",
       "      <td>-25.156000</td>\n",
       "      <td>-19.210000</td>\n",
       "    </tr>\n",
       "    <tr>\n",
       "      <th>25%</th>\n",
       "      <td>0.360000</td>\n",
       "      <td>0.470000</td>\n",
       "      <td>0.370000</td>\n",
       "      <td>0.383333</td>\n",
       "      <td>0.436667</td>\n",
       "      <td>0.410000</td>\n",
       "      <td>0.483333</td>\n",
       "      <td>0.596667</td>\n",
       "      <td>0.453333</td>\n",
       "      <td>0.413333</td>\n",
       "      <td>...</td>\n",
       "      <td>0.546667</td>\n",
       "      <td>0.560000</td>\n",
       "      <td>0.556667</td>\n",
       "      <td>0.643333</td>\n",
       "      <td>0.650000</td>\n",
       "      <td>-248.617500</td>\n",
       "      <td>-0.400000</td>\n",
       "      <td>-0.540000</td>\n",
       "      <td>-0.480000</td>\n",
       "      <td>-0.430000</td>\n",
       "    </tr>\n",
       "    <tr>\n",
       "      <th>50%</th>\n",
       "      <td>0.670000</td>\n",
       "      <td>0.690000</td>\n",
       "      <td>0.726667</td>\n",
       "      <td>0.660000</td>\n",
       "      <td>0.650000</td>\n",
       "      <td>0.576667</td>\n",
       "      <td>0.680000</td>\n",
       "      <td>0.673333</td>\n",
       "      <td>0.650000</td>\n",
       "      <td>0.656667</td>\n",
       "      <td>...</td>\n",
       "      <td>0.680000</td>\n",
       "      <td>0.673333</td>\n",
       "      <td>0.650000</td>\n",
       "      <td>0.666667</td>\n",
       "      <td>0.670000</td>\n",
       "      <td>-244.510000</td>\n",
       "      <td>0.150000</td>\n",
       "      <td>-0.090000</td>\n",
       "      <td>-0.066000</td>\n",
       "      <td>0.050000</td>\n",
       "    </tr>\n",
       "    <tr>\n",
       "      <th>75%</th>\n",
       "      <td>1.103333</td>\n",
       "      <td>0.933333</td>\n",
       "      <td>1.010000</td>\n",
       "      <td>0.913333</td>\n",
       "      <td>0.870000</td>\n",
       "      <td>0.800000</td>\n",
       "      <td>0.856667</td>\n",
       "      <td>0.776667</td>\n",
       "      <td>0.866667</td>\n",
       "      <td>0.913333</td>\n",
       "      <td>...</td>\n",
       "      <td>0.813333</td>\n",
       "      <td>0.783333</td>\n",
       "      <td>0.746667</td>\n",
       "      <td>0.696667</td>\n",
       "      <td>0.693333</td>\n",
       "      <td>-230.750000</td>\n",
       "      <td>0.630000</td>\n",
       "      <td>0.450000</td>\n",
       "      <td>0.400000</td>\n",
       "      <td>0.490000</td>\n",
       "    </tr>\n",
       "    <tr>\n",
       "      <th>max</th>\n",
       "      <td>1.483333</td>\n",
       "      <td>8.020000</td>\n",
       "      <td>3.793333</td>\n",
       "      <td>6.163333</td>\n",
       "      <td>12.266667</td>\n",
       "      <td>25.100000</td>\n",
       "      <td>40.863333</td>\n",
       "      <td>7.336667</td>\n",
       "      <td>5.863333</td>\n",
       "      <td>4.673333</td>\n",
       "      <td>...</td>\n",
       "      <td>2.193333</td>\n",
       "      <td>3.173333</td>\n",
       "      <td>1.840000</td>\n",
       "      <td>11.203333</td>\n",
       "      <td>11.950000</td>\n",
       "      <td>6172.790000</td>\n",
       "      <td>7.850000</td>\n",
       "      <td>23.750000</td>\n",
       "      <td>8.540000</td>\n",
       "      <td>10.530000</td>\n",
       "    </tr>\n",
       "  </tbody>\n",
       "</table>\n",
       "<p>8 rows × 29 columns</p>\n",
       "</div>"
      ],
      "text/plain": [
       "                Per1           Per2           Per3           Per4  \\\n",
       "count  227845.000000  227845.000000  227845.000000  227845.000000   \n",
       "mean        0.666006       0.667701       0.666315       0.666687   \n",
       "std         0.654133       0.548305       0.506357       0.471956   \n",
       "min       -18.136667     -23.573333     -15.443333      -1.226667   \n",
       "25%         0.360000       0.470000       0.370000       0.383333   \n",
       "50%         0.670000       0.690000       0.726667       0.660000   \n",
       "75%         1.103333       0.933333       1.010000       0.913333   \n",
       "max         1.483333       8.020000       3.793333       6.163333   \n",
       "\n",
       "                Per5           Per6           Per7           Per8  \\\n",
       "count  227845.000000  227845.000000  227845.000000  227845.000000   \n",
       "mean        0.666723       0.667378       0.666934       0.666279   \n",
       "std         0.461393       0.444573       0.415657       0.401546   \n",
       "min       -37.246667      -8.053333     -13.853333     -23.740000   \n",
       "25%         0.436667       0.410000       0.483333       0.596667   \n",
       "50%         0.650000       0.576667       0.680000       0.673333   \n",
       "75%         0.870000       0.800000       0.856667       0.776667   \n",
       "max        12.266667      25.100000      40.863333       7.336667   \n",
       "\n",
       "                Per9           Dem1  ...          Cred2          Cred3  \\\n",
       "count  227845.000000  227845.000000  ...  227845.000000  227845.000000   \n",
       "mean        0.666688       0.666576  ...       0.666264       0.666755   \n",
       "std         0.366537       0.340436  ...       0.202204       0.174204   \n",
       "min        -3.810000      -0.893333  ...      -0.280000      -2.766667   \n",
       "25%         0.453333       0.413333  ...       0.546667       0.560000   \n",
       "50%         0.650000       0.656667  ...       0.680000       0.673333   \n",
       "75%         0.866667       0.913333  ...       0.813333       0.783333   \n",
       "max         5.863333       4.673333  ...       2.193333       3.173333   \n",
       "\n",
       "               Cred4          Cred5          Cred6  Normalised_FNT  \\\n",
       "count  227845.000000  227845.000000  227845.000000   227845.000000   \n",
       "mean        0.666878       0.666566       0.666776     -227.954170   \n",
       "std         0.160803       0.135762       0.111612       61.951661   \n",
       "min        -0.080000      -6.856667      -4.476667     -250.000000   \n",
       "25%         0.556667       0.643333       0.650000     -248.617500   \n",
       "50%         0.650000       0.666667       0.670000     -244.510000   \n",
       "75%         0.746667       0.696667       0.693333     -230.750000   \n",
       "max         1.840000      11.203333      11.950000     6172.790000   \n",
       "\n",
       "           geo_score  instance_scores  qsets_normalized_tat      lambda_wt  \n",
       "count  227845.000000    227845.000000         227845.000000  227845.000000  \n",
       "mean        0.008908        -0.000123              0.001346       0.000350  \n",
       "std         0.997629         1.091488              0.850169       0.957957  \n",
       "min       -18.680000       -24.590000            -25.156000     -19.210000  \n",
       "25%        -0.400000        -0.540000             -0.480000      -0.430000  \n",
       "50%         0.150000        -0.090000             -0.066000       0.050000  \n",
       "75%         0.630000         0.450000              0.400000       0.490000  \n",
       "max         7.850000        23.750000              8.540000      10.530000  \n",
       "\n",
       "[8 rows x 29 columns]"
      ]
     },
     "execution_count": 275,
     "metadata": {},
     "output_type": "execute_result"
    }
   ],
   "source": [
    "#Checking the data again\n",
    "\n",
    "X.describe()\n",
    "\n",
    "# Outcome:\n",
    "# Feature scaling is required\n",
    "# Data is imbalanced"
   ]
  },
  {
   "cell_type": "code",
   "execution_count": 285,
   "id": "731a0dba",
   "metadata": {},
   "outputs": [
    {
     "data": {
      "text/plain": [
       "Target\n",
       "0.0    227451\n",
       "1.0       394\n",
       "Name: count, dtype: int64"
      ]
     },
     "execution_count": 285,
     "metadata": {},
     "output_type": "execute_result"
    }
   ],
   "source": [
    "# Imbalance check\n",
    "\n",
    "y.value_counts()"
   ]
  },
  {
   "cell_type": "code",
   "execution_count": null,
   "id": "4a9a975a",
   "metadata": {},
   "outputs": [],
   "source": [
    "# Splitting the datasetr into train and test\n",
    "# Doing stratified sampling to handle imbalance dataset\n",
    "\n",
    "from sklearn.model_selection import train_test_split\n",
    "\n",
    "X_train, X_test, y_train, y_test = train_test_split(X, y, test_size = 0.2, random_state=101, stratify=y)"
   ]
  },
  {
   "cell_type": "code",
   "execution_count": 288,
   "id": "2dd3b03e",
   "metadata": {},
   "outputs": [
    {
     "name": "stdout",
     "output_type": "stream",
     "text": [
      "Target\n",
      "0.0    181961\n",
      "1.0       315\n",
      "Name: count, dtype: int64 Target\n",
      "0.0    45490\n",
      "1.0       79\n",
      "Name: count, dtype: int64\n"
     ]
    }
   ],
   "source": [
    "# Chekcing the strtified sampling \n",
    "\n",
    "print(y_train.value_counts(), y_test.value_counts())"
   ]
  }
 ],
 "metadata": {
  "kernelspec": {
   "display_name": "venv",
   "language": "python",
   "name": "python3"
  },
  "language_info": {
   "codemirror_mode": {
    "name": "ipython",
    "version": 3
   },
   "file_extension": ".py",
   "mimetype": "text/x-python",
   "name": "python",
   "nbconvert_exporter": "python",
   "pygments_lexer": "ipython3",
   "version": "3.13.5"
  }
 },
 "nbformat": 4,
 "nbformat_minor": 5
}
